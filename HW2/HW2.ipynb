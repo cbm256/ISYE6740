{
 "cells": [
  {
   "cell_type": "code",
   "execution_count": 416,
   "metadata": {
    "collapsed": true
   },
   "outputs": [],
   "source": [
    "#% Your goal of this assignment is implementing your own K-means.\n",
    "#%\n",
    "#% Input:\n",
    "#%     pixels: data set. Each row contains one data point. For image\n",
    "#%     dataset, it contains 3 columns, each column corresponding to Red,\n",
    "#%     Green, and Blue component.\n",
    "#%\n",
    "#%     K: the number of desired clusters. Too high value of K may result in\n",
    "#%     empty cluster error. Then, you need to reduce it.\n",
    "#%\n",
    "#% Output:\n",
    "#%     class: the class assignment of each data point in pixels. The\n",
    "#%     assignment should be 1, 2, 3, etc. For K = 5, for example, each cell\n",
    "#%     of class should be either 1, 2, 3, 4, or 5. The output should be a\n",
    "#%     column vector with size(pixels, 1) elements.\n",
    "#%\n",
    "#%     centroid: the location of K centroids in your result. With images,\n",
    "#%     each centroid corresponds to the representative color of each\n",
    "#%     cluster. The output should be a matrix with K rows and\n",
    "#%     3 columns. The range of values should be [0, 255].\n",
    "#%     \n",
    "#%\n",
    "#% You may run the following line, then you can see what should be done.\n",
    "#% For submission, you need to code your own implementation without using\n",
    "#% the kmeans matlab function directly. That is, you need to comment it out.\n",
    "\n",
    "from sklearn.cluster import KMeans\n",
    "from scipy.spatial import distance\n",
    "import warnings\n",
    "import numpy as np\n",
    "\n",
    "def my_kmeans(image_data, K):\n",
    "    \n",
    "    # randomly choose K data points as initial centroids\n",
    "    centers = image_data[np.random.randint(low = 0, high =image_data.shape[0], size=K),:].astype(float)\n",
    "    \n",
    "\n",
    "    # create a empty array to store cluster info\n",
    "    image_cluster = np.zeros(image_data.shape[0]).astype(int)\n",
    "    warnings.filterwarnings(\"ignore\")\n",
    "    \n",
    "    def update_centers(image_cluster, K, centers): #update the coordinates of the new centroids\n",
    "        for i in range(K):\n",
    "            if (image_cluster==i).any(): # if a cluster is not empty\n",
    "                new_center = np.mean(image_data[image_cluster==i],axis=0)# get the mean coordinates of the centroids\n",
    "                centers[i] = new_center\n",
    "            else: # if a cluster is empty\n",
    "                centers[i] = np.nan # change coordinates as nan\n",
    "                K = K-1 # delete one cluster from K\n",
    "        centers = centers[~np.isnan(centers).any(axis=1)] # remove the empty cluster centeroid\n",
    "    \n",
    "        return centers, K\n",
    "    \n",
    "    def dist_cal (image_cluster, centers, K): # calculate the distance between each data point to each center\n",
    "                                          # then find the closest center, and store that info\n",
    "            \n",
    "        dist = distance.cdist(image_data,centers,'euclidean') #calculate the euclidean distance between each data point and each clsuter center\n",
    "        \n",
    "        for i in range(len(image_cluster)): #find the closest center, and store that info\n",
    "            image_cluster[i] = dist[i].argmin()\n",
    "        \n",
    "        centers, K = update_centers(image_cluster, K, centers) # update centroids coordiantes\n",
    "        return image_cluster, centers, K\n",
    "    \n",
    "    n =0\n",
    "    \n",
    "    while n<=300: # 300 iteration max\n",
    "        centers_old = centers.copy() # hold the cluster info before update\n",
    "        \n",
    "        image_cluster, centers_new, K = dist_cal(image_cluster, centers, K)\n",
    "        if centers_new.shape == centers_old.shape:\n",
    "            v = centers_new == centers_old # compare the updated and unupdated centroid coordinates\n",
    "            if v.all() == False: # if not the same, then continue\n",
    "                centers = centers_new\n",
    "            else: # if the same, stop\n",
    "                centers = centers_new\n",
    "                break\n",
    "        else:\n",
    "            centers = centers_new\n",
    "        n += 1\n",
    "    \n",
    "    print (\"Total iteration for k-means:\", n)\n",
    "    return image_cluster, centers"
   ]
  },
  {
   "cell_type": "code",
   "execution_count": 417,
   "metadata": {},
   "outputs": [],
   "source": [
    "from scipy.spatial import distance\n",
    "import numpy as np\n",
    "\n",
    "def my_kmedoids(image_data, K):\n",
    "    \n",
    "    # randomly choose K data points as initial centroids\n",
    "    centers = image_data[np.random.randint(low = 0, high =image_data.shape[0], size=K),:]\n",
    "    \n",
    "\n",
    "    # create a empty array to store cluster info\n",
    "    image_cluster = np.zeros(image_data.shape[0]).astype(int)\n",
    "\n",
    "    def update_centers(image_data, centers, image_cluster): #update the coordinates of the new centroids\n",
    "        for i in range(K):\n",
    "            new_center = np.mean(image_data[image_cluster==i],axis=0)# get the mean coordinates for each cluster (cluster center)\n",
    "            centers[i] = new_center #store those mean coordinates for each cluster (cluster center)\n",
    "            \n",
    "        dist = distance.cdist(image_data, centers, 'cityblock') # calculate the Manhattan distance between each data point and each clsuter center\n",
    "        for i in range(K):\n",
    "            index = dist[:,i].argmin() # find the index for the closest data point to the cluster center\n",
    "            centers[i] = image_data[index] # use the coordinates of the closest point as the medoids\n",
    "        return centers\n",
    "    \n",
    "    def dist_cal(image_cluster, centers): # calculate the distance between each data point to each medoid\n",
    "                                          # then find the closest medoid, and store that info.\n",
    "        \n",
    "        dist = distance.cdist(image_data,centers,'cityblock') #calculate the Manhattan distance\n",
    "        for i in range(len(image_cluster)): #find the closest medoid, and store that info\n",
    "            image_cluster[i] = dist[i].argmin()\n",
    "        \n",
    "        centers = update_centers(image_data,centers, image_cluster)\n",
    "        return image_cluster, centers\n",
    "    \n",
    "    n =0\n",
    "    \n",
    "    while n<=300: # 300 iteration max\n",
    "        centers_old = centers.copy() # hold the cluster info before update\n",
    "        \n",
    "        image_cluster, centers_new = dist_cal(image_cluster, centers)\n",
    "\n",
    "        v = centers_new == centers_old # compare the updated and unupdated centroid coordinates\n",
    "        if v.all() == False: # if not the same, then continue\n",
    "            centers = centers_new\n",
    "        else: # if the same, stop\n",
    "            centers = centers_new\n",
    "            break\n",
    "            \n",
    "        n += 1\n",
    "    print (\"Total iteration for k_mediods:\", n)\n",
    "    return image_cluster, centers"
   ]
  },
  {
   "cell_type": "code",
   "execution_count": 419,
   "metadata": {},
   "outputs": [
    {
     "name": "stdout",
     "output_type": "stream",
     "text": [
      "Total iteration for k-means: 25\n",
      "Total iteration for k_mediods: 10\n"
     ]
    },
    {
     "data": {
      "image/png": "[encoded data removed]",
      "text/plain": [
       "<Figure size 432x288 with 3 Axes>"
      ]
     },
     "metadata": {},
     "output_type": "display_data"
    }
   ],
   "source": [
    "#% This is a simple example to help you test your implementation using\n",
    "#% an image. Please feel free to use the attached images, or your own\n",
    "#% images.\n",
    "#%\n",
    "#% An example of running this script is\n",
    "#%   homework1('beach.bmp', 4);\n",
    "#%\n",
    "#% You are not supposed to edit this file. Your job is implementing k-means\n",
    "#% and k-medoids in the other files, mykmeans.m and mykmedoids.m. Have fun!\n",
    "\n",
    "\n",
    "import matplotlib.pyplot as plt\n",
    "import numpy as np\n",
    "\n",
    "#from my_sol_kmeans import my_kmeans\n",
    "#from my_sol_kmedoids import my_kmedoids\n",
    "\n",
    "def score(image_name, K):\n",
    "    image = plt.imread(image_name)\n",
    "    rows = image.shape[0]\n",
    "    cols = image.shape[1]\n",
    "    pixels = np.zeros((rows*cols,3))\n",
    "\n",
    "    for i in range(rows):\n",
    "        for j in range(cols):\n",
    "            pixels[j*rows+i,:] = image[i,j,:]\n",
    "    \n",
    "    class1, centroid1 = my_kmeans(pixels, K)\n",
    "    class2, centroid2 = my_kmedoids(pixels, K)\n",
    "    \n",
    "    converted_image1 = np.zeros((rows, cols, 3))\n",
    "    converted_image2 = np.zeros((rows, cols, 3))\n",
    "    \n",
    "    for i in range(rows):\n",
    "        for j in range(cols):\n",
    "            converted_image1[i,j,:] = centroid1[class1[j*rows+i],:]\n",
    "            converted_image2[i,j,:] = centroid2[class2[j*rows+i],:]\n",
    "            \n",
    "    converted_image1 /= 255\n",
    "    converted_image2 /= 255\n",
    "    \n",
    "    plt.subplot(1,3,1)\n",
    "    plt.title('Origin')\n",
    "    plt.imshow(image)\n",
    "    plt.axis('off')\n",
    "    \n",
    "    plt.subplot(1,3,2)\n",
    "    plt.title('K-means')\n",
    "    plt.imshow(converted_image1)\n",
    "    plt.axis('off')\n",
    "    \n",
    "    plt.subplot(1,3,3)\n",
    "    plt.title('K-medoids')\n",
    "    plt.imshow(converted_image2)\n",
    "    plt.axis('off')\n",
    "    \n",
    "    plt.show()\n",
    "    return None\n",
    "    \n",
    "score('/home/zhang/Desktop/ISYE6740/HW2/image.bmp', 3)"
   ]
  },
  {
   "cell_type": "code",
   "execution_count": null,
   "metadata": {},
   "outputs": [],
   "source": []
  },
  {
   "cell_type": "code",
   "execution_count": 8,
   "metadata": {},
   "outputs": [
    {
     "name": "stdout",
     "output_type": "stream",
     "text": [
      "here are some data point labelled NaN\n",
      " 55    NaN\n",
      "110   NaN\n",
      "Name: 2, dtype: float64\n",
      "The  false classification rate is: 0.491263440860215\n"
     ]
    }
   ],
   "source": [
    "import pandas as pd\n",
    "import numpy as np\n",
    "from sklearn.cluster import KMeans\n",
    "\n",
    "data = pd.read_csv(\"/home/zhang/Desktop/ISYE6740/HW2/nodes.txt\", sep=\"\\t\", header = None)\n",
    "edge = pd.read_csv(\"/home/zhang/Desktop/ISYE6740/HW2/edges.txt\", sep=\"\\t\", header = None)\n",
    "\n",
    "nan_data = data[2][np.isnan(data[2])]\n",
    "\n",
    "print (\"here are some data points labelled NaN\\n\", nan_data)\n",
    "\n",
    "\n",
    "# get the list of both origin and destination\n",
    "node_from = edge[0]\n",
    "node_to = edge[1]\n",
    "\n",
    "# initiate a matrix with dismension 1490x1490\n",
    "A = np.zeros((1490,1490))\n",
    "\n",
    "# update the adjacency matrix based on edge info\n",
    "for i in range(edge.shape[0]): \n",
    "    A[node_from[i]-1,node_to[i]-1] += 1\n",
    "\n",
    "# calculate the diagonal matrix\n",
    "D = np.diag(A.sum(axis=1))\n",
    "\n",
    "# get the Laplacian matrix\n",
    "L = D - A\n",
    "\n",
    "# calculate the eigenvalues and eigenvectors of L \n",
    "vals, vecs = np.linalg.eig(L)\n",
    "\n",
    "# sort the eigenvalues and eigenvectors from small to large\n",
    "vals = vals[np.argsort(vals)]\n",
    "vecs = vecs[:,np.argsort(vals)]\n",
    "\n",
    "\n",
    "# perform Kmeans with k=2, using the first 2 eigenvectors\n",
    "kmeans = KMeans(n_clusters=2,random_state=6).fit(vecs[:,0:2].real)\n",
    "label = kmeans.labels_\n",
    "\n",
    "# remove NaN data\n",
    "true_label = data[2][-np.isnan(data[2])]\n",
    "label = np.delete(label,[55, 110])\n",
    "\n",
    "false_classification_rate =  1 - sum(label == true_label)/len(true_label)\n",
    "print (\"The  false classification rate is:\", false_classification_rate)"
   ]
  },
  {
   "cell_type": "code",
   "execution_count": 10,
   "metadata": {},
   "outputs": [
    {
     "name": "stdout",
     "output_type": "stream",
     "text": [
      "[1 0 0 1 0 0 1 0 0 0 1 1 1]\n"
     ]
    },
    {
     "data": {
      "application/vnd.plotly.v1+json": {
       "config": {
        "plotlyServerURL": "https://plot.ly"
       },
       "data": [
        {
         "hoverlabel": {
          "namelength": 0
         },
         "hovertemplate": "prediction=1<br>PC1=%{x}<br>PC2=%{y}<br>Country=%{text}",
         "legendgroup": "prediction=1",
         "marker": {
          "color": "#636efa",
          "symbol": "circle"
         },
         "mode": "markers+text",
         "name": "prediction=1",
         "showlegend": true,
         "text": [
          "Germany",
          "Holland",
          "England",
          "Denmark",
          "Norway",
          "Ireland"
         ],
         "textposition": "top center",
         "type": "scatter",
         "x": [
          20.503262964005035,
          64.62461193491531,
          99.46008035457021,
          34.74637888548635,
          10.66441508093771,
          40.69080425998074
         ],
         "xaxis": "x",
         "y": [
          -10.451289379474174,
          -5.156200079083915,
          -3.9979888761310667,
          16.755863174584455,
          37.66525252300711,
          55.84968957326434
         ],
         "yaxis": "y"
        },
        {
         "hoverlabel": {
          "namelength": 0
         },
         "hovertemplate": "prediction=0<br>PC1=%{x}<br>PC2=%{y}<br>Country=%{text}",
         "legendgroup": "prediction=0",
         "marker": {
          "color": "#EF553B",
          "symbol": "circle"
         },
         "mode": "markers+text",
         "name": "prediction=0",
         "showlegend": true,
         "text": [
          "Italy",
          "France",
          "Belgium",
          "Luxembourg",
          "Portugal",
          "Austria",
          "Switzerland"
         ],
         "textposition": "top center",
         "type": "scatter",
         "x": [
          -82.04597382266984,
          -27.321471399496748,
          -7.342633828058662,
          -6.765608442752494,
          -96.6449692267081,
          -43.561278031200935,
          -7.0076187290086
         ],
         "xaxis": "x",
         "y": [
          7.693059052000351,
          -41.011802004399385,
          -10.889949734119739,
          -88.6653076550832,
          14.420198351139902,
          51.762047319020866,
          -23.973572264725558
         ],
         "yaxis": "y"
        }
       ],
       "layout": {
        "height": 600,
        "legend": {
         "tracegroupgap": 0
        },
        "margin": {
         "t": 60
        },
        "template": {
         "data": {
          "bar": [
           {
            "error_x": {
             "color": "#2a3f5f"
            },
            "error_y": {
             "color": "#2a3f5f"
            },
            "marker": {
             "line": {
              "color": "#E5ECF6",
              "width": 0.5
             }
            },
            "type": "bar"
           }
          ],
          "barpolar": [
           {
            "marker": {
             "line": {
              "color": "#E5ECF6",
              "width": 0.5
             }
            },
            "type": "barpolar"
           }
          ],
          "carpet": [
           {
            "aaxis": {
             "endlinecolor": "#2a3f5f",
             "gridcolor": "white",
             "linecolor": "white",
             "minorgridcolor": "white",
             "startlinecolor": "#2a3f5f"
            },
            "baxis": {
             "endlinecolor": "#2a3f5f",
             "gridcolor": "white",
             "linecolor": "white",
             "minorgridcolor": "white",
             "startlinecolor": "#2a3f5f"
            },
            "type": "carpet"
           }
          ],
          "choropleth": [
           {
            "colorbar": {
             "outlinewidth": 0,
             "ticks": ""
            },
            "type": "choropleth"
           }
          ],
          "contour": [
           {
            "colorbar": {
             "outlinewidth": 0,
             "ticks": ""
            },
            "colorscale": [
             [
              0,
              "#0d0887"
             ],
             [
              0.1111111111111111,
              "#46039f"
             ],
             [
              0.2222222222222222,
              "#7201a8"
             ],
             [
              0.3333333333333333,
              "#9c179e"
             ],
             [
              0.4444444444444444,
              "#bd3786"
             ],
             [
              0.5555555555555556,
              "#d8576b"
             ],
             [
              0.6666666666666666,
              "#ed7953"
             ],
             [
              0.7777777777777778,
              "#fb9f3a"
             ],
             [
              0.8888888888888888,
              "#fdca26"
             ],
             [
              1,
              "#f0f921"
             ]
            ],
            "type": "contour"
           }
          ],
          "contourcarpet": [
           {
            "colorbar": {
             "outlinewidth": 0,
             "ticks": ""
            },
            "type": "contourcarpet"
           }
          ],
          "heatmap": [
           {
            "colorbar": {
             "outlinewidth": 0,
             "ticks": ""
            },
            "colorscale": [
             [
              0,
              "#0d0887"
             ],
             [
              0.1111111111111111,
              "#46039f"
             ],
             [
              0.2222222222222222,
              "#7201a8"
             ],
             [
              0.3333333333333333,
              "#9c179e"
             ],
             [
              0.4444444444444444,
              "#bd3786"
             ],
             [
              0.5555555555555556,
              "#d8576b"
             ],
             [
              0.6666666666666666,
              "#ed7953"
             ],
             [
              0.7777777777777778,
              "#fb9f3a"
             ],
             [
              0.8888888888888888,
              "#fdca26"
             ],
             [
              1,
              "#f0f921"
             ]
            ],
            "type": "heatmap"
           }
          ],
          "heatmapgl": [
           {
            "colorbar": {
             "outlinewidth": 0,
             "ticks": ""
            },
            "colorscale": [
             [
              0,
              "#0d0887"
             ],
             [
              0.1111111111111111,
              "#46039f"
             ],
             [
              0.2222222222222222,
              "#7201a8"
             ],
             [
              0.3333333333333333,
              "#9c179e"
             ],
             [
              0.4444444444444444,
              "#bd3786"
             ],
             [
              0.5555555555555556,
              "#d8576b"
             ],
             [
              0.6666666666666666,
              "#ed7953"
             ],
             [
              0.7777777777777778,
              "#fb9f3a"
             ],
             [
              0.8888888888888888,
              "#fdca26"
             ],
             [
              1,
              "#f0f921"
             ]
            ],
            "type": "heatmapgl"
           }
          ],
          "histogram": [
           {
            "marker": {
             "colorbar": {
              "outlinewidth": 0,
              "ticks": ""
             }
            },
            "type": "histogram"
           }
          ],
          "histogram2d": [
           {
            "colorbar": {
             "outlinewidth": 0,
             "ticks": ""
            },
            "colorscale": [
             [
              0,
              "#0d0887"
             ],
             [
              0.1111111111111111,
              "#46039f"
             ],
             [
              0.2222222222222222,
              "#7201a8"
             ],
             [
              0.3333333333333333,
              "#9c179e"
             ],
             [
              0.4444444444444444,
              "#bd3786"
             ],
             [
              0.5555555555555556,
              "#d8576b"
             ],
             [
              0.6666666666666666,
              "#ed7953"
             ],
             [
              0.7777777777777778,
              "#fb9f3a"
             ],
             [
              0.8888888888888888,
              "#fdca26"
             ],
             [
              1,
              "#f0f921"
             ]
            ],
            "type": "histogram2d"
           }
          ],
          "histogram2dcontour": [
           {
            "colorbar": {
             "outlinewidth": 0,
             "ticks": ""
            },
            "colorscale": [
             [
              0,
              "#0d0887"
             ],
             [
              0.1111111111111111,
              "#46039f"
             ],
             [
              0.2222222222222222,
              "#7201a8"
             ],
             [
              0.3333333333333333,
              "#9c179e"
             ],
             [
              0.4444444444444444,
              "#bd3786"
             ],
             [
              0.5555555555555556,
              "#d8576b"
             ],
             [
              0.6666666666666666,
              "#ed7953"
             ],
             [
              0.7777777777777778,
              "#fb9f3a"
             ],
             [
              0.8888888888888888,
              "#fdca26"
             ],
             [
              1,
              "#f0f921"
             ]
            ],
            "type": "histogram2dcontour"
           }
          ],
          "mesh3d": [
           {
            "colorbar": {
             "outlinewidth": 0,
             "ticks": ""
            },
            "type": "mesh3d"
           }
          ],
          "parcoords": [
           {
            "line": {
             "colorbar": {
              "outlinewidth": 0,
              "ticks": ""
             }
            },
            "type": "parcoords"
           }
          ],
          "scatter": [
           {
            "marker": {
             "colorbar": {
              "outlinewidth": 0,
              "ticks": ""
             }
            },
            "type": "scatter"
           }
          ],
          "scatter3d": [
           {
            "line": {
             "colorbar": {
              "outlinewidth": 0,
              "ticks": ""
             }
            },
            "marker": {
             "colorbar": {
              "outlinewidth": 0,
              "ticks": ""
             }
            },
            "type": "scatter3d"
           }
          ],
          "scattercarpet": [
           {
            "marker": {
             "colorbar": {
              "outlinewidth": 0,
              "ticks": ""
             }
            },
            "type": "scattercarpet"
           }
          ],
          "scattergeo": [
           {
            "marker": {
             "colorbar": {
              "outlinewidth": 0,
              "ticks": ""
             }
            },
            "type": "scattergeo"
           }
          ],
          "scattergl": [
           {
            "marker": {
             "colorbar": {
              "outlinewidth": 0,
              "ticks": ""
             }
            },
            "type": "scattergl"
           }
          ],
          "scattermapbox": [
           {
            "marker": {
             "colorbar": {
              "outlinewidth": 0,
              "ticks": ""
             }
            },
            "type": "scattermapbox"
           }
          ],
          "scatterpolar": [
           {
            "marker": {
             "colorbar": {
              "outlinewidth": 0,
              "ticks": ""
             }
            },
            "type": "scatterpolar"
           }
          ],
          "scatterpolargl": [
           {
            "marker": {
             "colorbar": {
              "outlinewidth": 0,
              "ticks": ""
             }
            },
            "type": "scatterpolargl"
           }
          ],
          "scatterternary": [
           {
            "marker": {
             "colorbar": {
              "outlinewidth": 0,
              "ticks": ""
             }
            },
            "type": "scatterternary"
           }
          ],
          "surface": [
           {
            "colorbar": {
             "outlinewidth": 0,
             "ticks": ""
            },
            "colorscale": [
             [
              0,
              "#0d0887"
             ],
             [
              0.1111111111111111,
              "#46039f"
             ],
             [
              0.2222222222222222,
              "#7201a8"
             ],
             [
              0.3333333333333333,
              "#9c179e"
             ],
             [
              0.4444444444444444,
              "#bd3786"
             ],
             [
              0.5555555555555556,
              "#d8576b"
             ],
             [
              0.6666666666666666,
              "#ed7953"
             ],
             [
              0.7777777777777778,
              "#fb9f3a"
             ],
             [
              0.8888888888888888,
              "#fdca26"
             ],
             [
              1,
              "#f0f921"
             ]
            ],
            "type": "surface"
           }
          ],
          "table": [
           {
            "cells": {
             "fill": {
              "color": "#EBF0F8"
             },
             "line": {
              "color": "white"
             }
            },
            "header": {
             "fill": {
              "color": "#C8D4E3"
             },
             "line": {
              "color": "white"
             }
            },
            "type": "table"
           }
          ]
         },
         "layout": {
          "annotationdefaults": {
           "arrowcolor": "#2a3f5f",
           "arrowhead": 0,
           "arrowwidth": 1
          },
          "colorscale": {
           "diverging": [
            [
             0,
             "#8e0152"
            ],
            [
             0.1,
             "#c51b7d"
            ],
            [
             0.2,
             "#de77ae"
            ],
            [
             0.3,
             "#f1b6da"
            ],
            [
             0.4,
             "#fde0ef"
            ],
            [
             0.5,
             "#f7f7f7"
            ],
            [
             0.6,
             "#e6f5d0"
            ],
            [
             0.7,
             "#b8e186"
            ],
            [
             0.8,
             "#7fbc41"
            ],
            [
             0.9,
             "#4d9221"
            ],
            [
             1,
             "#276419"
            ]
           ],
           "sequential": [
            [
             0,
             "#0d0887"
            ],
            [
             0.1111111111111111,
             "#46039f"
            ],
            [
             0.2222222222222222,
             "#7201a8"
            ],
            [
             0.3333333333333333,
             "#9c179e"
            ],
            [
             0.4444444444444444,
             "#bd3786"
            ],
            [
             0.5555555555555556,
             "#d8576b"
            ],
            [
             0.6666666666666666,
             "#ed7953"
            ],
            [
             0.7777777777777778,
             "#fb9f3a"
            ],
            [
             0.8888888888888888,
             "#fdca26"
            ],
            [
             1,
             "#f0f921"
            ]
           ],
           "sequentialminus": [
            [
             0,
             "#0d0887"
            ],
            [
             0.1111111111111111,
             "#46039f"
            ],
            [
             0.2222222222222222,
             "#7201a8"
            ],
            [
             0.3333333333333333,
             "#9c179e"
            ],
            [
             0.4444444444444444,
             "#bd3786"
            ],
            [
             0.5555555555555556,
             "#d8576b"
            ],
            [
             0.6666666666666666,
             "#ed7953"
            ],
            [
             0.7777777777777778,
             "#fb9f3a"
            ],
            [
             0.8888888888888888,
             "#fdca26"
            ],
            [
             1,
             "#f0f921"
            ]
           ]
          },
          "colorway": [
           "#636efa",
           "#EF553B",
           "#00cc96",
           "#ab63fa",
           "#FFA15A",
           "#19d3f3",
           "#FF6692",
           "#B6E880",
           "#FF97FF",
           "#FECB52"
          ],
          "font": {
           "color": "#2a3f5f"
          },
          "geo": {
           "bgcolor": "white",
           "lakecolor": "white",
           "landcolor": "#E5ECF6",
           "showlakes": true,
           "showland": true,
           "subunitcolor": "white"
          },
          "hoverlabel": {
           "align": "left"
          },
          "hovermode": "closest",
          "mapbox": {
           "style": "light"
          },
          "paper_bgcolor": "white",
          "plot_bgcolor": "#E5ECF6",
          "polar": {
           "angularaxis": {
            "gridcolor": "white",
            "linecolor": "white",
            "ticks": ""
           },
           "bgcolor": "#E5ECF6",
           "radialaxis": {
            "gridcolor": "white",
            "linecolor": "white",
            "ticks": ""
           }
          },
          "scene": {
           "xaxis": {
            "backgroundcolor": "#E5ECF6",
            "gridcolor": "white",
            "gridwidth": 2,
            "linecolor": "white",
            "showbackground": true,
            "ticks": "",
            "zerolinecolor": "white"
           },
           "yaxis": {
            "backgroundcolor": "#E5ECF6",
            "gridcolor": "white",
            "gridwidth": 2,
            "linecolor": "white",
            "showbackground": true,
            "ticks": "",
            "zerolinecolor": "white"
           },
           "zaxis": {
            "backgroundcolor": "#E5ECF6",
            "gridcolor": "white",
            "gridwidth": 2,
            "linecolor": "white",
            "showbackground": true,
            "ticks": "",
            "zerolinecolor": "white"
           }
          },
          "shapedefaults": {
           "line": {
            "color": "#2a3f5f"
           }
          },
          "ternary": {
           "aaxis": {
            "gridcolor": "white",
            "linecolor": "white",
            "ticks": ""
           },
           "baxis": {
            "gridcolor": "white",
            "linecolor": "white",
            "ticks": ""
           },
           "bgcolor": "#E5ECF6",
           "caxis": {
            "gridcolor": "white",
            "linecolor": "white",
            "ticks": ""
           }
          },
          "title": {
           "x": 0.05
          },
          "xaxis": {
           "automargin": true,
           "gridcolor": "white",
           "linecolor": "white",
           "ticks": "",
           "zerolinecolor": "white",
           "zerolinewidth": 2
          },
          "yaxis": {
           "automargin": true,
           "gridcolor": "white",
           "linecolor": "white",
           "ticks": "",
           "zerolinecolor": "white",
           "zerolinewidth": 2
          }
         }
        },
        "xaxis": {
         "anchor": "y",
         "domain": [
          0,
          0.98
         ],
         "title": {
          "text": "PC1"
         }
        },
        "yaxis": {
         "anchor": "x",
         "domain": [
          0,
          1
         ],
         "title": {
          "text": "PC2"
         }
        }
       }
      },
      "text/html": [
       "<div>\n",
       "        \n",
       "        \n",
       "            <div id=\"b7b837f3-0792-400b-abf3-d33a18bb3728\" class=\"plotly-graph-div\" style=\"height:600px; width:100%;\"></div>\n",
       "            <script type=\"text/javascript\">\n",
       "                require([\"plotly\"], function(Plotly) {\n",
       "                    window.PLOTLYENV=window.PLOTLYENV || {};\n",
       "                    \n",
       "                if (document.getElementById(\"b7b837f3-0792-400b-abf3-d33a18bb3728\")) {\n",
       "                    Plotly.newPlot(\n",
       "                        'b7b837f3-0792-400b-abf3-d33a18bb3728',\n",
       "                        [{\"hoverlabel\": {\"namelength\": 0}, \"hovertemplate\": \"prediction=1<br>PC1=%{x}<br>PC2=%{y}<br>Country=%{text}\", \"legendgroup\": \"prediction=1\", \"marker\": {\"color\": \"#636efa\", \"symbol\": \"circle\"}, \"mode\": \"markers+text\", \"name\": \"prediction=1\", \"showlegend\": true, \"text\": [\"Germany\", \"Holland\", \"England\", \"Denmark\", \"Norway\", \"Ireland\"], \"textposition\": \"top center\", \"type\": \"scatter\", \"x\": [20.503262964005035, 64.62461193491531, 99.46008035457021, 34.74637888548635, 10.66441508093771, 40.69080425998074], \"xaxis\": \"x\", \"y\": [-10.451289379474174, -5.156200079083915, -3.9979888761310667, 16.755863174584455, 37.66525252300711, 55.84968957326434], \"yaxis\": \"y\"}, {\"hoverlabel\": {\"namelength\": 0}, \"hovertemplate\": \"prediction=0<br>PC1=%{x}<br>PC2=%{y}<br>Country=%{text}\", \"legendgroup\": \"prediction=0\", \"marker\": {\"color\": \"#EF553B\", \"symbol\": \"circle\"}, \"mode\": \"markers+text\", \"name\": \"prediction=0\", \"showlegend\": true, \"text\": [\"Italy\", \"France\", \"Belgium\", \"Luxembourg\", \"Portugal\", \"Austria\", \"Switzerland\"], \"textposition\": \"top center\", \"type\": \"scatter\", \"x\": [-82.04597382266984, -27.321471399496748, -7.342633828058662, -6.765608442752494, -96.6449692267081, -43.561278031200935, -7.0076187290086], \"xaxis\": \"x\", \"y\": [7.693059052000351, -41.011802004399385, -10.889949734119739, -88.6653076550832, 14.420198351139902, 51.762047319020866, -23.973572264725558], \"yaxis\": \"y\"}],\n",
       "                        {\"height\": 600, \"legend\": {\"tracegroupgap\": 0}, \"margin\": {\"t\": 60}, \"template\": {\"data\": {\"bar\": [{\"error_x\": {\"color\": \"#2a3f5f\"}, \"error_y\": {\"color\": \"#2a3f5f\"}, \"marker\": {\"line\": {\"color\": \"#E5ECF6\", \"width\": 0.5}}, \"type\": \"bar\"}], \"barpolar\": [{\"marker\": {\"line\": {\"color\": \"#E5ECF6\", \"width\": 0.5}}, \"type\": \"barpolar\"}], \"carpet\": [{\"aaxis\": {\"endlinecolor\": \"#2a3f5f\", \"gridcolor\": \"white\", \"linecolor\": \"white\", \"minorgridcolor\": \"white\", \"startlinecolor\": \"#2a3f5f\"}, \"baxis\": {\"endlinecolor\": \"#2a3f5f\", \"gridcolor\": \"white\", \"linecolor\": \"white\", \"minorgridcolor\": \"white\", \"startlinecolor\": \"#2a3f5f\"}, \"type\": \"carpet\"}], \"choropleth\": [{\"colorbar\": {\"outlinewidth\": 0, \"ticks\": \"\"}, \"type\": \"choropleth\"}], \"contour\": [{\"colorbar\": {\"outlinewidth\": 0, \"ticks\": \"\"}, \"colorscale\": [[0.0, \"#0d0887\"], [0.1111111111111111, \"#46039f\"], [0.2222222222222222, \"#7201a8\"], [0.3333333333333333, \"#9c179e\"], [0.4444444444444444, \"#bd3786\"], [0.5555555555555556, \"#d8576b\"], [0.6666666666666666, \"#ed7953\"], [0.7777777777777778, \"#fb9f3a\"], [0.8888888888888888, \"#fdca26\"], [1.0, \"#f0f921\"]], \"type\": \"contour\"}], \"contourcarpet\": [{\"colorbar\": {\"outlinewidth\": 0, \"ticks\": \"\"}, \"type\": \"contourcarpet\"}], \"heatmap\": [{\"colorbar\": {\"outlinewidth\": 0, \"ticks\": \"\"}, \"colorscale\": [[0.0, \"#0d0887\"], [0.1111111111111111, \"#46039f\"], [0.2222222222222222, \"#7201a8\"], [0.3333333333333333, \"#9c179e\"], [0.4444444444444444, \"#bd3786\"], [0.5555555555555556, \"#d8576b\"], [0.6666666666666666, \"#ed7953\"], [0.7777777777777778, \"#fb9f3a\"], [0.8888888888888888, \"#fdca26\"], [1.0, \"#f0f921\"]], \"type\": \"heatmap\"}], \"heatmapgl\": [{\"colorbar\": {\"outlinewidth\": 0, \"ticks\": \"\"}, \"colorscale\": [[0.0, \"#0d0887\"], [0.1111111111111111, \"#46039f\"], [0.2222222222222222, \"#7201a8\"], [0.3333333333333333, \"#9c179e\"], [0.4444444444444444, \"#bd3786\"], [0.5555555555555556, \"#d8576b\"], [0.6666666666666666, \"#ed7953\"], [0.7777777777777778, \"#fb9f3a\"], [0.8888888888888888, \"#fdca26\"], [1.0, \"#f0f921\"]], \"type\": \"heatmapgl\"}], \"histogram\": [{\"marker\": {\"colorbar\": {\"outlinewidth\": 0, \"ticks\": \"\"}}, \"type\": \"histogram\"}], \"histogram2d\": [{\"colorbar\": {\"outlinewidth\": 0, \"ticks\": \"\"}, \"colorscale\": [[0.0, \"#0d0887\"], [0.1111111111111111, \"#46039f\"], [0.2222222222222222, \"#7201a8\"], [0.3333333333333333, \"#9c179e\"], [0.4444444444444444, \"#bd3786\"], [0.5555555555555556, \"#d8576b\"], [0.6666666666666666, \"#ed7953\"], [0.7777777777777778, \"#fb9f3a\"], [0.8888888888888888, \"#fdca26\"], [1.0, \"#f0f921\"]], \"type\": \"histogram2d\"}], \"histogram2dcontour\": [{\"colorbar\": {\"outlinewidth\": 0, \"ticks\": \"\"}, \"colorscale\": [[0.0, \"#0d0887\"], [0.1111111111111111, \"#46039f\"], [0.2222222222222222, \"#7201a8\"], [0.3333333333333333, \"#9c179e\"], [0.4444444444444444, \"#bd3786\"], [0.5555555555555556, \"#d8576b\"], [0.6666666666666666, \"#ed7953\"], [0.7777777777777778, \"#fb9f3a\"], [0.8888888888888888, \"#fdca26\"], [1.0, \"#f0f921\"]], \"type\": \"histogram2dcontour\"}], \"mesh3d\": [{\"colorbar\": {\"outlinewidth\": 0, \"ticks\": \"\"}, \"type\": \"mesh3d\"}], \"parcoords\": [{\"line\": {\"colorbar\": {\"outlinewidth\": 0, \"ticks\": \"\"}}, \"type\": \"parcoords\"}], \"scatter\": [{\"marker\": {\"colorbar\": {\"outlinewidth\": 0, \"ticks\": \"\"}}, \"type\": \"scatter\"}], \"scatter3d\": [{\"line\": {\"colorbar\": {\"outlinewidth\": 0, \"ticks\": \"\"}}, \"marker\": {\"colorbar\": {\"outlinewidth\": 0, \"ticks\": \"\"}}, \"type\": \"scatter3d\"}], \"scattercarpet\": [{\"marker\": {\"colorbar\": {\"outlinewidth\": 0, \"ticks\": \"\"}}, \"type\": \"scattercarpet\"}], \"scattergeo\": [{\"marker\": {\"colorbar\": {\"outlinewidth\": 0, \"ticks\": \"\"}}, \"type\": \"scattergeo\"}], \"scattergl\": [{\"marker\": {\"colorbar\": {\"outlinewidth\": 0, \"ticks\": \"\"}}, \"type\": \"scattergl\"}], \"scattermapbox\": [{\"marker\": {\"colorbar\": {\"outlinewidth\": 0, \"ticks\": \"\"}}, \"type\": \"scattermapbox\"}], \"scatterpolar\": [{\"marker\": {\"colorbar\": {\"outlinewidth\": 0, \"ticks\": \"\"}}, \"type\": \"scatterpolar\"}], \"scatterpolargl\": [{\"marker\": {\"colorbar\": {\"outlinewidth\": 0, \"ticks\": \"\"}}, \"type\": \"scatterpolargl\"}], \"scatterternary\": [{\"marker\": {\"colorbar\": {\"outlinewidth\": 0, \"ticks\": \"\"}}, \"type\": \"scatterternary\"}], \"surface\": [{\"colorbar\": {\"outlinewidth\": 0, \"ticks\": \"\"}, \"colorscale\": [[0.0, \"#0d0887\"], [0.1111111111111111, \"#46039f\"], [0.2222222222222222, \"#7201a8\"], [0.3333333333333333, \"#9c179e\"], [0.4444444444444444, \"#bd3786\"], [0.5555555555555556, \"#d8576b\"], [0.6666666666666666, \"#ed7953\"], [0.7777777777777778, \"#fb9f3a\"], [0.8888888888888888, \"#fdca26\"], [1.0, \"#f0f921\"]], \"type\": \"surface\"}], \"table\": [{\"cells\": {\"fill\": {\"color\": \"#EBF0F8\"}, \"line\": {\"color\": \"white\"}}, \"header\": {\"fill\": {\"color\": \"#C8D4E3\"}, \"line\": {\"color\": \"white\"}}, \"type\": \"table\"}]}, \"layout\": {\"annotationdefaults\": {\"arrowcolor\": \"#2a3f5f\", \"arrowhead\": 0, \"arrowwidth\": 1}, \"colorscale\": {\"diverging\": [[0, \"#8e0152\"], [0.1, \"#c51b7d\"], [0.2, \"#de77ae\"], [0.3, \"#f1b6da\"], [0.4, \"#fde0ef\"], [0.5, \"#f7f7f7\"], [0.6, \"#e6f5d0\"], [0.7, \"#b8e186\"], [0.8, \"#7fbc41\"], [0.9, \"#4d9221\"], [1, \"#276419\"]], \"sequential\": [[0.0, \"#0d0887\"], [0.1111111111111111, \"#46039f\"], [0.2222222222222222, \"#7201a8\"], [0.3333333333333333, \"#9c179e\"], [0.4444444444444444, \"#bd3786\"], [0.5555555555555556, \"#d8576b\"], [0.6666666666666666, \"#ed7953\"], [0.7777777777777778, \"#fb9f3a\"], [0.8888888888888888, \"#fdca26\"], [1.0, \"#f0f921\"]], \"sequentialminus\": [[0.0, \"#0d0887\"], [0.1111111111111111, \"#46039f\"], [0.2222222222222222, \"#7201a8\"], [0.3333333333333333, \"#9c179e\"], [0.4444444444444444, \"#bd3786\"], [0.5555555555555556, \"#d8576b\"], [0.6666666666666666, \"#ed7953\"], [0.7777777777777778, \"#fb9f3a\"], [0.8888888888888888, \"#fdca26\"], [1.0, \"#f0f921\"]]}, \"colorway\": [\"#636efa\", \"#EF553B\", \"#00cc96\", \"#ab63fa\", \"#FFA15A\", \"#19d3f3\", \"#FF6692\", \"#B6E880\", \"#FF97FF\", \"#FECB52\"], \"font\": {\"color\": \"#2a3f5f\"}, \"geo\": {\"bgcolor\": \"white\", \"lakecolor\": \"white\", \"landcolor\": \"#E5ECF6\", \"showlakes\": true, \"showland\": true, \"subunitcolor\": \"white\"}, \"hoverlabel\": {\"align\": \"left\"}, \"hovermode\": \"closest\", \"mapbox\": {\"style\": \"light\"}, \"paper_bgcolor\": \"white\", \"plot_bgcolor\": \"#E5ECF6\", \"polar\": {\"angularaxis\": {\"gridcolor\": \"white\", \"linecolor\": \"white\", \"ticks\": \"\"}, \"bgcolor\": \"#E5ECF6\", \"radialaxis\": {\"gridcolor\": \"white\", \"linecolor\": \"white\", \"ticks\": \"\"}}, \"scene\": {\"xaxis\": {\"backgroundcolor\": \"#E5ECF6\", \"gridcolor\": \"white\", \"gridwidth\": 2, \"linecolor\": \"white\", \"showbackground\": true, \"ticks\": \"\", \"zerolinecolor\": \"white\"}, \"yaxis\": {\"backgroundcolor\": \"#E5ECF6\", \"gridcolor\": \"white\", \"gridwidth\": 2, \"linecolor\": \"white\", \"showbackground\": true, \"ticks\": \"\", \"zerolinecolor\": \"white\"}, \"zaxis\": {\"backgroundcolor\": \"#E5ECF6\", \"gridcolor\": \"white\", \"gridwidth\": 2, \"linecolor\": \"white\", \"showbackground\": true, \"ticks\": \"\", \"zerolinecolor\": \"white\"}}, \"shapedefaults\": {\"line\": {\"color\": \"#2a3f5f\"}}, \"ternary\": {\"aaxis\": {\"gridcolor\": \"white\", \"linecolor\": \"white\", \"ticks\": \"\"}, \"baxis\": {\"gridcolor\": \"white\", \"linecolor\": \"white\", \"ticks\": \"\"}, \"bgcolor\": \"#E5ECF6\", \"caxis\": {\"gridcolor\": \"white\", \"linecolor\": \"white\", \"ticks\": \"\"}}, \"title\": {\"x\": 0.05}, \"xaxis\": {\"automargin\": true, \"gridcolor\": \"white\", \"linecolor\": \"white\", \"ticks\": \"\", \"zerolinecolor\": \"white\", \"zerolinewidth\": 2}, \"yaxis\": {\"automargin\": true, \"gridcolor\": \"white\", \"linecolor\": \"white\", \"ticks\": \"\", \"zerolinecolor\": \"white\", \"zerolinewidth\": 2}}}, \"xaxis\": {\"anchor\": \"y\", \"domain\": [0.0, 0.98], \"title\": {\"text\": \"PC1\"}}, \"yaxis\": {\"anchor\": \"x\", \"domain\": [0.0, 1.0], \"title\": {\"text\": \"PC2\"}}},\n",
       "                        {\"responsive\": true}\n",
       "                    ).then(function(){\n",
       "                            \n",
       "var gd = document.getElementById('b7b837f3-0792-400b-abf3-d33a18bb3728');\n",
       "var x = new MutationObserver(function (mutations, observer) {{\n",
       "        var display = window.getComputedStyle(gd).display;\n",
       "        if (!display || display === 'none') {{\n",
       "            console.log([gd, 'removed!']);\n",
       "            Plotly.purge(gd);\n",
       "            observer.disconnect();\n",
       "        }}\n",
       "}});\n",
       "\n",
       "// Listen for the removal of the full notebook cells\n",
       "var notebookContainer = gd.closest('#notebook-container');\n",
       "if (notebookContainer) {{\n",
       "    x.observe(notebookContainer, {childList: true});\n",
       "}}\n",
       "\n",
       "// Listen for the clearing of the current output cell\n",
       "var outputEl = gd.closest('.output');\n",
       "if (outputEl) {{\n",
       "    x.observe(outputEl, {childList: true});\n",
       "}}\n",
       "\n",
       "                        })\n",
       "                };\n",
       "                });\n",
       "            </script>\n",
       "        </div>"
      ]
     },
     "metadata": {},
     "output_type": "display_data"
    }
   ],
   "source": [
    "import pandas as pd\n",
    "import numpy as np\n",
    "from sklearn.cluster import KMeans\n",
    "import seaborn as sns\n",
    "import matplotlib.pyplot as plt \n",
    "import plotly.express as px\n",
    "\n",
    "\n",
    "food  = pd.read_csv(\"/home/zhang/Desktop/ISYE6740/HW2/food-consumption.csv\")\n",
    "\n",
    "# drop Sweden, Finland and Spain\n",
    "remove = ['Sweden', \"Finland\", \"Spain\"]\n",
    "food = food.loc[-food[\"Country\"].isin(remove),:]\n",
    "\n",
    "# store all countries' name\n",
    "Country = food[\"Country\"]\n",
    "\n",
    "# minors the mean for each column.\n",
    "food = food[food.columns.difference(['Country'])] - np.mean(food[food.columns.difference(['Country'])], axis=0)\n",
    "\n",
    "# get the covariance matrix\n",
    "food_cov = np.cov(food,rowvar=False)\n",
    "\n",
    "# calculate the eigenvectors and eigenvalues of the covariance matrix\n",
    "vals, vecs = np.linalg.eig(food_cov)\n",
    "\n",
    "# sort them from high to low\n",
    "vals = vals[np.argsort(-vals)]\n",
    "vecs = vecs[:,np.argsort(-vals)]\n",
    "\n",
    "# get principle component 1 and 2\n",
    "PC1 = food.dot(vecs[:,0].transpose()).real\n",
    "PC2 = food.dot(vecs[:,1].transpose()).real\n",
    "\n",
    "\n",
    "PCA = pd.DataFrame(data={\"Country\":Country, \"PC1\":PC1, \"PC2\":PC2}).reset_index()\n",
    "PCA = PCA.iloc[:,1:4]\n",
    "\n",
    "K_means = KMeans(n_clusters=2).fit(PCA.iloc[:,1:3])\n",
    "print (K_means.labels_)\n",
    "\n",
    "PCA[\"prediction\"] = K_means.labels_.astype(object)\n",
    "\n",
    "\n",
    "# plot principle component 1 and 2, then label each data points\n",
    "#p1 = sns.regplot(x='PC1',y='PC2', data=PCA,fit_reg=False,)\n",
    "#for line in range(0,PCA.shape[0]):\n",
    "#    p1.text(PCA.PC1[line]+1, PCA.PC2[line]+1, PCA.Country[line], horizontalalignment='left', size='medium', color='black')\n",
    "#plt.show()\n",
    "\n",
    "\n",
    "p2  = px.scatter(PCA, x='PC1',y='PC2',text=\"Country\", color=\"prediction\")\n",
    "p2.update_traces(textposition='top center')\n",
    "p2.show()"
   ]
  },
  {
   "cell_type": "code",
   "execution_count": 215,
   "metadata": {},
   "outputs": [
    {
     "data": {
      "image/png": "[encoded data removed]",
      "text/plain": [
       "<Figure size 432x288 with 1 Axes>"
      ]
     },
     "metadata": {},
     "output_type": "display_data"
    },
    {
     "data": {
      "text/html": [
       "<div>\n",
       "<style scoped>\n",
       "    .dataframe tbody tr th:only-of-type {\n",
       "        vertical-align: middle;\n",
       "    }\n",
       "\n",
       "    .dataframe tbody tr th {\n",
       "        vertical-align: top;\n",
       "    }\n",
       "\n",
       "    .dataframe thead th {\n",
       "        text-align: right;\n",
       "    }\n",
       "</style>\n",
       "<table border=\"1\" class=\"dataframe\">\n",
       "  <thead>\n",
       "    <tr style=\"text-align: right;\">\n",
       "      <th></th>\n",
       "      <th>index</th>\n",
       "      <th>Country</th>\n",
       "      <th>PC1</th>\n",
       "      <th>PC2</th>\n",
       "    </tr>\n",
       "  </thead>\n",
       "  <tbody>\n",
       "    <tr>\n",
       "      <th>0</th>\n",
       "      <td>0</td>\n",
       "      <td>Germany</td>\n",
       "      <td>20.503263</td>\n",
       "      <td>10.451289</td>\n",
       "    </tr>\n",
       "    <tr>\n",
       "      <th>1</th>\n",
       "      <td>1</td>\n",
       "      <td>Italy</td>\n",
       "      <td>-82.045974</td>\n",
       "      <td>-7.693059</td>\n",
       "    </tr>\n",
       "    <tr>\n",
       "      <th>2</th>\n",
       "      <td>2</td>\n",
       "      <td>France</td>\n",
       "      <td>-27.321471</td>\n",
       "      <td>41.011802</td>\n",
       "    </tr>\n",
       "    <tr>\n",
       "      <th>3</th>\n",
       "      <td>3</td>\n",
       "      <td>Holland</td>\n",
       "      <td>64.624612</td>\n",
       "      <td>5.156200</td>\n",
       "    </tr>\n",
       "    <tr>\n",
       "      <th>4</th>\n",
       "      <td>4</td>\n",
       "      <td>Belgium</td>\n",
       "      <td>-7.342634</td>\n",
       "      <td>10.889950</td>\n",
       "    </tr>\n",
       "    <tr>\n",
       "      <th>5</th>\n",
       "      <td>5</td>\n",
       "      <td>Luxembourg</td>\n",
       "      <td>-6.765608</td>\n",
       "      <td>88.665308</td>\n",
       "    </tr>\n",
       "    <tr>\n",
       "      <th>6</th>\n",
       "      <td>6</td>\n",
       "      <td>England</td>\n",
       "      <td>99.460080</td>\n",
       "      <td>3.997989</td>\n",
       "    </tr>\n",
       "    <tr>\n",
       "      <th>7</th>\n",
       "      <td>7</td>\n",
       "      <td>Portugal</td>\n",
       "      <td>-96.644969</td>\n",
       "      <td>-14.420198</td>\n",
       "    </tr>\n",
       "    <tr>\n",
       "      <th>8</th>\n",
       "      <td>8</td>\n",
       "      <td>Austria</td>\n",
       "      <td>-43.561278</td>\n",
       "      <td>-51.762047</td>\n",
       "    </tr>\n",
       "    <tr>\n",
       "      <th>9</th>\n",
       "      <td>9</td>\n",
       "      <td>Switzerland</td>\n",
       "      <td>-7.007619</td>\n",
       "      <td>23.973572</td>\n",
       "    </tr>\n",
       "    <tr>\n",
       "      <th>10</th>\n",
       "      <td>11</td>\n",
       "      <td>Denmark</td>\n",
       "      <td>34.746379</td>\n",
       "      <td>-16.755863</td>\n",
       "    </tr>\n",
       "    <tr>\n",
       "      <th>11</th>\n",
       "      <td>12</td>\n",
       "      <td>Norway</td>\n",
       "      <td>10.664415</td>\n",
       "      <td>-37.665253</td>\n",
       "    </tr>\n",
       "    <tr>\n",
       "      <th>12</th>\n",
       "      <td>15</td>\n",
       "      <td>Ireland</td>\n",
       "      <td>40.690804</td>\n",
       "      <td>-55.849690</td>\n",
       "    </tr>\n",
       "  </tbody>\n",
       "</table>\n",
       "</div>"
      ],
      "text/plain": [
       "    index      Country        PC1        PC2\n",
       "0       0      Germany  20.503263  10.451289\n",
       "1       1        Italy -82.045974  -7.693059\n",
       "2       2       France -27.321471  41.011802\n",
       "3       3      Holland  64.624612   5.156200\n",
       "4       4      Belgium  -7.342634  10.889950\n",
       "5       5   Luxembourg  -6.765608  88.665308\n",
       "6       6      England  99.460080   3.997989\n",
       "7       7     Portugal -96.644969 -14.420198\n",
       "8       8      Austria -43.561278 -51.762047\n",
       "9       9  Switzerland  -7.007619  23.973572\n",
       "10     11      Denmark  34.746379 -16.755863\n",
       "11     12       Norway  10.664415 -37.665253\n",
       "12     15      Ireland  40.690804 -55.849690"
      ]
     },
     "execution_count": 215,
     "metadata": {},
     "output_type": "execute_result"
    }
   ],
   "source": [
    "from sklearn import  decomposition\n",
    "from sklearn.preprocessing import StandardScaler\n",
    "\n",
    "food  = pd.read_csv(\"/home/zhang/Desktop/ISYE6740/HW2/food-consumption.csv\")\n",
    "\n",
    "# drop Sweden, Finland and Spain\n",
    "remove = ['Sweden', \"Finland\", \"Spain\"]\n",
    "food = food.loc[-food[\"Country\"].isin(remove),:]\n",
    "\n",
    "food = pd.DataFrame(StandardScaler(with_std=False).fit_transform(food.iloc[:,1::]))\n",
    "\n",
    "\n",
    "PCA = decomposition.PCA(n_components=2).fit_transform(food)\n",
    "PCA = pd.DataFrame(data={\"Country\":Country, \"PC1\":PCA[:,0], \"PC2\":PCA[:,1]}).reset_index()\n",
    "p1 = sns.regplot(x='PC1',y='PC2', data=PCA,fit_reg=False)\n",
    "for line in range(0,principle_component.shape[0]):\n",
    "    p1.text(PCA.PC1[line]+1, PCA.PC2[line]+1, PCA.Country[line], horizontalalignment='left', size='medium', color='black')\n",
    "plt.show()\n",
    "\n",
    "PCA"
   ]
  },
  {
   "cell_type": "code",
   "execution_count": 211,
   "metadata": {},
   "outputs": [
    {
     "data": {
      "text/html": [
       "<div>\n",
       "<style scoped>\n",
       "    .dataframe tbody tr th:only-of-type {\n",
       "        vertical-align: middle;\n",
       "    }\n",
       "\n",
       "    .dataframe tbody tr th {\n",
       "        vertical-align: top;\n",
       "    }\n",
       "\n",
       "    .dataframe thead th {\n",
       "        text-align: right;\n",
       "    }\n",
       "</style>\n",
       "<table border=\"1\" class=\"dataframe\">\n",
       "  <thead>\n",
       "    <tr style=\"text-align: right;\">\n",
       "      <th></th>\n",
       "      <th>Country</th>\n",
       "      <th>PC1</th>\n",
       "      <th>PC2</th>\n",
       "      <th>prediction</th>\n",
       "    </tr>\n",
       "  </thead>\n",
       "  <tbody>\n",
       "    <tr>\n",
       "      <th>0</th>\n",
       "      <td>Germany</td>\n",
       "      <td>20.503263</td>\n",
       "      <td>-10.451289</td>\n",
       "      <td>0</td>\n",
       "    </tr>\n",
       "    <tr>\n",
       "      <th>1</th>\n",
       "      <td>Italy</td>\n",
       "      <td>-82.045974</td>\n",
       "      <td>7.693059</td>\n",
       "      <td>1</td>\n",
       "    </tr>\n",
       "    <tr>\n",
       "      <th>2</th>\n",
       "      <td>France</td>\n",
       "      <td>-27.321471</td>\n",
       "      <td>-41.011802</td>\n",
       "      <td>1</td>\n",
       "    </tr>\n",
       "    <tr>\n",
       "      <th>3</th>\n",
       "      <td>Holland</td>\n",
       "      <td>64.624612</td>\n",
       "      <td>-5.156200</td>\n",
       "      <td>0</td>\n",
       "    </tr>\n",
       "    <tr>\n",
       "      <th>4</th>\n",
       "      <td>Belgium</td>\n",
       "      <td>-7.342634</td>\n",
       "      <td>-10.889950</td>\n",
       "      <td>1</td>\n",
       "    </tr>\n",
       "    <tr>\n",
       "      <th>5</th>\n",
       "      <td>Luxembourg</td>\n",
       "      <td>-6.765608</td>\n",
       "      <td>-88.665308</td>\n",
       "      <td>1</td>\n",
       "    </tr>\n",
       "    <tr>\n",
       "      <th>6</th>\n",
       "      <td>England</td>\n",
       "      <td>99.460080</td>\n",
       "      <td>-3.997989</td>\n",
       "      <td>0</td>\n",
       "    </tr>\n",
       "    <tr>\n",
       "      <th>7</th>\n",
       "      <td>Portugal</td>\n",
       "      <td>-96.644969</td>\n",
       "      <td>14.420198</td>\n",
       "      <td>1</td>\n",
       "    </tr>\n",
       "    <tr>\n",
       "      <th>8</th>\n",
       "      <td>Austria</td>\n",
       "      <td>-43.561278</td>\n",
       "      <td>51.762047</td>\n",
       "      <td>1</td>\n",
       "    </tr>\n",
       "    <tr>\n",
       "      <th>9</th>\n",
       "      <td>Switzerland</td>\n",
       "      <td>-7.007619</td>\n",
       "      <td>-23.973572</td>\n",
       "      <td>1</td>\n",
       "    </tr>\n",
       "    <tr>\n",
       "      <th>10</th>\n",
       "      <td>Denmark</td>\n",
       "      <td>34.746379</td>\n",
       "      <td>16.755863</td>\n",
       "      <td>0</td>\n",
       "    </tr>\n",
       "    <tr>\n",
       "      <th>11</th>\n",
       "      <td>Norway</td>\n",
       "      <td>10.664415</td>\n",
       "      <td>37.665253</td>\n",
       "      <td>0</td>\n",
       "    </tr>\n",
       "    <tr>\n",
       "      <th>12</th>\n",
       "      <td>Ireland</td>\n",
       "      <td>40.690804</td>\n",
       "      <td>55.849690</td>\n",
       "      <td>0</td>\n",
       "    </tr>\n",
       "  </tbody>\n",
       "</table>\n",
       "</div>"
      ],
      "text/plain": [
       "        Country        PC1        PC2  prediction\n",
       "0       Germany  20.503263 -10.451289           0\n",
       "1         Italy -82.045974   7.693059           1\n",
       "2        France -27.321471 -41.011802           1\n",
       "3       Holland  64.624612  -5.156200           0\n",
       "4       Belgium  -7.342634 -10.889950           1\n",
       "5    Luxembourg  -6.765608 -88.665308           1\n",
       "6       England  99.460080  -3.997989           0\n",
       "7      Portugal -96.644969  14.420198           1\n",
       "8       Austria -43.561278  51.762047           1\n",
       "9   Switzerland  -7.007619 -23.973572           1\n",
       "10      Denmark  34.746379  16.755863           0\n",
       "11       Norway  10.664415  37.665253           0\n",
       "12      Ireland  40.690804  55.849690           0"
      ]
     },
     "execution_count": 211,
     "metadata": {},
     "output_type": "execute_result"
    }
   ],
   "source": [
    "PCA"
   ]
  },
  {
   "cell_type": "code",
   "execution_count": null,
   "metadata": {},
   "outputs": [],
   "source": []
  }
 ],
 "metadata": {
  "kernelspec": {
   "display_name": "Python 3",
   "language": "python",
   "name": "python3"
  },
  "language_info": {
   "codemirror_mode": {
    "name": "ipython",
    "version": 3
   },
   "file_extension": ".py",
   "mimetype": "text/x-python",
   "name": "python",
   "nbconvert_exporter": "python",
   "pygments_lexer": "ipython3",
   "version": "3.7.3"
  }
 },
 "nbformat": 4,
 "nbformat_minor": 2
}
