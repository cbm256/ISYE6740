{
 "cells": [
  {
   "cell_type": "code",
   "execution_count": 1,
   "metadata": {},
   "outputs": [],
   "source": [
    "#% Your goal of this assignment is implementing your own K-means.\n",
    "#%\n",
    "#% Input:\n",
    "#%     pixels: data set. Each row contains one data point. For image\n",
    "#%     dataset, it contains 3 columns, each column corresponding to Red,\n",
    "#%     Green, and Blue component.\n",
    "#%\n",
    "#%     K: the number of desired clusters. Too high value of K may result in\n",
    "#%     empty cluster error. Then, you need to reduce it.\n",
    "#%\n",
    "#% Output:\n",
    "#%     class: the class assignment of each data point in pixels. The\n",
    "#%     assignment should be 1, 2, 3, etc. For K = 5, for example, each cell\n",
    "#%     of class should be either 1, 2, 3, 4, or 5. The output should be a\n",
    "#%     column vector with size(pixels, 1) elements.\n",
    "#%\n",
    "#%     centroid: the location of K centroids in your result. With images,\n",
    "#%     each centroid corresponds to the representative color of each\n",
    "#%     cluster. The output should be a matrix with K rows and\n",
    "#%     3 columns. The range of values should be [0, 255].\n",
    "#%     \n",
    "#%\n",
    "#% You may run the following line, then you can see what should be done.\n",
    "#% For submission, you need to code your own implementation without using\n",
    "#% the kmeans matlab function directly. That is, you need to comment it out.\n",
    "\n",
    "from sklearn.cluster import KMeans\n",
    "from scipy.spatial import distance\n",
    "import warnings\n",
    "import numpy as np\n",
    "import copy\n",
    "\n",
    "def my_kmeans(image_data, K):\n",
    "    \n",
    "    # randomly choose K data points as initial centroids\n",
    "    centers = image_data[np.random.randint(low = 0, high =image_data.shape[0], size=K),:].astype(float)\n",
    "    \n",
    "    original_K = copy.deepcopy(K)\n",
    "    # create a empty array to store cluster info\n",
    "    image_cluster = np.zeros(image_data.shape[0]).astype(int)\n",
    "    warnings.filterwarnings(\"ignore\")\n",
    "    \n",
    "    def update_centers(image_cluster, K, centers): #update the coordinates of the new centroids\n",
    "        for i in range(K):\n",
    "            if (image_cluster==i).any(): # if a cluster is not empty\n",
    "                new_center = np.mean(image_data[image_cluster==i],axis=0)# get the mean coordinates of the centroids\n",
    "                centers[i] = new_center\n",
    "            else: # if a cluster is empty\n",
    "                centers[i] = np.nan # change coordinates as nan\n",
    "                K = K-1 # delete one cluster from K\n",
    "        centers = centers[~np.isnan(centers).any(axis=1)] # remove the empty cluster centeroid\n",
    "    \n",
    "        return centers, K\n",
    "    \n",
    "    def dist_cal (image_cluster, centers, K): # calculate the distance between each data point to each center\n",
    "                                          # then find the closest center, and store that info\n",
    "            \n",
    "        dist = distance.cdist(image_data,centers,'euclidean') #calculate the euclidean distance between each data point and each clsuter center\n",
    "        \n",
    "        for i in range(len(image_cluster)): #find the closest center, and store that info\n",
    "            image_cluster[i] = dist[i].argmin()\n",
    "        \n",
    "        centers, K = update_centers(image_cluster, K, centers) # update centroids coordiantes\n",
    "        return image_cluster, centers, K\n",
    "    \n",
    "    n =0\n",
    "    \n",
    "    while n<=300: # 300 iteration max\n",
    "        centers_old = centers.copy() # hold the cluster info before update\n",
    "        \n",
    "        image_cluster, centers_new, K = dist_cal(image_cluster, centers, K)\n",
    "        if centers_new.shape == centers_old.shape:\n",
    "            v = centers_new == centers_old # compare the updated and unupdated centroid coordinates\n",
    "            if v.all() == False: # if not the same, then continue\n",
    "                centers = centers_new\n",
    "            else: # if the same, stop\n",
    "                centers = centers_new\n",
    "                break\n",
    "        else:\n",
    "            centers = centers_new\n",
    "        n += 1\n",
    "    \n",
    "    print (\"Total iteration for k-means:\", n)\n",
    "    if K !=original_K:\n",
    "        print (\"Initially, k=\", original_K, \"However the number of k is too high, causing empty cluster. Thus the programme deletes the empty cluster,\\n so now k=\",K)\n",
    "    return image_cluster, centers"
   ]
  },
  {
   "cell_type": "code",
   "execution_count": 2,
   "metadata": {},
   "outputs": [],
   "source": [
    "from scipy.spatial import distance\n",
    "import numpy as np\n",
    "\n",
    "def my_kmedoids(image_data, K):\n",
    "    \n",
    "    # randomly choose K data points as initial centroids\n",
    "    centers = image_data[np.random.randint(low = 0, high =image_data.shape[0], size=K),:]\n",
    "    \n",
    "\n",
    "    # create a empty array to store cluster info\n",
    "    image_cluster = np.zeros(image_data.shape[0]).astype(int)\n",
    "\n",
    "    def update_centers(image_data, centers, image_cluster): #update the coordinates of the new centroids\n",
    "        for i in range(K):\n",
    "            new_center = np.mean(image_data[image_cluster==i],axis=0)# get the mean coordinates for each cluster (cluster center)\n",
    "            centers[i] = new_center #store those mean coordinates for each cluster (cluster center)\n",
    "            \n",
    "        dist = distance.cdist(image_data, centers, 'cityblock') # calculate the Manhattan distance between each data point and each clsuter center\n",
    "        for i in range(K):\n",
    "            index = dist[:,i].argmin() # find the index for the closest data point to the cluster center\n",
    "            centers[i] = image_data[index] # use the coordinates of the closest point as the medoids\n",
    "        return centers\n",
    "    \n",
    "    def dist_cal(image_cluster, centers): # calculate the distance between each data point to each medoid\n",
    "                                          # then find the closest medoid, and store that info.\n",
    "        \n",
    "        dist = distance.cdist(image_data,centers,'cityblock') #calculate the Manhattan distance\n",
    "        for i in range(len(image_cluster)): #find the closest medoid, and store that info\n",
    "            image_cluster[i] = dist[i].argmin()\n",
    "        \n",
    "        centers = update_centers(image_data,centers, image_cluster)\n",
    "        return image_cluster, centers\n",
    "    \n",
    "    n =0\n",
    "    \n",
    "    while n<=300: # 300 iteration max\n",
    "        centers_old = centers.copy() # hold the cluster info before update\n",
    "        \n",
    "        image_cluster, centers_new = dist_cal(image_cluster, centers)\n",
    "\n",
    "        v = centers_new == centers_old # compare the updated and unupdated centroid coordinates\n",
    "        if v.all() == False: # if not the same, then continue\n",
    "            centers = centers_new\n",
    "        else: # if the same, stop\n",
    "            centers = centers_new\n",
    "            break\n",
    "            \n",
    "        n += 1\n",
    "    print (\"Total iteration for k_mediods:\", n)\n",
    "    return image_cluster, centers"
   ]
  },
  {
   "cell_type": "code",
<<<<<<< HEAD
   "execution_count": 4,
=======
   "execution_count": 28,
>>>>>>> a1d4f2d2a7971ce89fb65315e9b899ce3c74bc47
   "metadata": {},
   "outputs": [
    {
     "name": "stdout",
     "output_type": "stream",
     "text": [
<<<<<<< HEAD
      "(50246, 3)\n",
      "Total iteration for k-means: 25\n",
      "Total iteration for k_mediods: 11\n",
      "(194, 259, 3)\n"
=======
      "Total iteration for k-means: 119\n",
      "Total iteration for k_mediods: 11\n"
>>>>>>> a1d4f2d2a7971ce89fb65315e9b899ce3c74bc47
     ]
    },
    {
     "data": {
<<<<<<< HEAD
      "image/png": "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\n",
=======
      "image/png": "iVBORw0KGgoAAAANSUhEUgAAAXcAAAB5CAYAAADCvWE6AAAABHNCSVQICAgIfAhkiAAAAAlwSFlz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\nEHeBQCDIQoS4CwQCQRYixF0gEAiykP8HX+Q4VJ4YQaAAAAAASUVORK5CYII=\n",
>>>>>>> a1d4f2d2a7971ce89fb65315e9b899ce3c74bc47
      "text/plain": [
       "<Figure size 432x288 with 3 Axes>"
      ]
     },
     "metadata": {
      "needs_background": "light"
     },
     "output_type": "display_data"
    }
   ],
   "source": [
    "#% This is a simple example to help you test your implementation using\n",
    "#% an image. Please feel free to use the attached images, or your own\n",
    "#% images.\n",
    "#%\n",
    "#% An example of running this script is\n",
    "#%   homework1('beach.bmp', 4);\n",
    "#%\n",
    "#% You are not supposed to edit this file. Your job is implementing k-means\n",
    "#% and k-medoids in the other files, mykmeans.m and mykmedoids.m. Have fun!\n",
    "\n",
    "\n",
    "import matplotlib.pyplot as plt\n",
    "import numpy as np\n",
    "\n",
    "#from my_sol_kmeans import my_kmeans\n",
    "#from my_sol_kmedoids import my_kmedoids\n",
    "\n",
    "def score(image_name, K):\n",
    "    image = plt.imread(image_name)\n",
    "    rows = image.shape[0]\n",
    "    cols = image.shape[1]\n",
    "    pixels = np.zeros((rows*cols,3))\n",
    "\n",
    "    for i in range(rows):\n",
    "        for j in range(cols):\n",
    "            pixels[j*rows+i,:] = image[i,j,:]\n",
    "    \n",
    "    class1, centroid1 = my_kmeans(pixels, K)\n",
    "    class2, centroid2 = my_kmedoids(pixels, K)\n",
    "    \n",
    "    converted_image1 = np.zeros((rows, cols, 3))\n",
    "    converted_image2 = np.zeros((rows, cols, 3))\n",
    "    \n",
    "    for i in range(rows):\n",
    "        for j in range(cols):\n",
    "            converted_image1[i,j,:] = centroid1[class1[j*rows+i],:]\n",
    "            converted_image2[i,j,:] = centroid2[class2[j*rows+i],:]\n",
    "            \n",
    "    converted_image1 /= 255\n",
    "    converted_image2 /= 255\n",
    "    \n",
    "    plt.subplot(1,3,1)\n",
    "    plt.title('Origin')\n",
    "    plt.imshow(image)\n",
    "    plt.axis('off')\n",
    "    \n",
    "    plt.subplot(1,3,2)\n",
    "    plt.title('K-means')\n",
    "    plt.imshow(converted_image1)\n",
    "    plt.axis('off')\n",
    "    \n",
    "    plt.subplot(1,3,3)\n",
    "    plt.title('K-medoids')\n",
    "    plt.imshow(converted_image2)\n",
    "    plt.axis('off')\n",
    "    \n",
    "    plt.show()\n",
    "    return None\n",
    "    \n",
    "score('image.bmp', 16)"
   ]
  },
  {
   "cell_type": "code",
   "execution_count": null,
   "metadata": {},
   "outputs": [],
   "source": []
  },
  {
   "cell_type": "code",
   "execution_count": 243,
   "metadata": {},
   "outputs": [
    {
     "name": "stdout",
     "output_type": "stream",
     "text": [
      "here are some data points labelled NaN\n",
      " 55    NaN\n",
      "110   NaN\n",
      "Name: 2, dtype: float64\n",
      "The  false classification rate is: 0.491263440860215\n"
     ]
    }
   ],
   "source": [
    "import pandas as pd\n",
    "import numpy as np\n",
    "from sklearn.cluster import KMeans\n",
    "\n",
    "data = pd.read_csv(\"/home/zhang/Desktop/ISYE6740/HW2/nodes.txt\", sep=\"\\t\", header = None)\n",
    "edge = pd.read_csv(\"/home/zhang/Desktop/ISYE6740/HW2/edges.txt\", sep=\"\\t\", header = None)\n",
    "\n",
    "nan_data = data[2][np.isnan(data[2])]\n",
    "\n",
    "print (\"here are some data points labelled NaN\\n\", nan_data)\n",
    "\n",
    "\n",
    "# get the list of both origin and destination\n",
    "node_from = edge[0]\n",
    "node_to = edge[1]\n",
    "\n",
    "# initiate a matrix with dismension 1490x1490\n",
    "A = np.zeros((1490,1490))\n",
    "\n",
    "# update the adjacency matrix based on edge info\n",
    "for i in range(edge.shape[0]): \n",
    "    A[node_from[i]-1,node_to[i]-1] += 1\n",
    "\n",
    "# calculate the diagonal matrix\n",
    "D = np.diag(A.sum(axis=1))\n",
    "\n",
    "# get the Laplacian matrix\n",
    "L = D - A\n",
    "\n",
    "# calculate the eigenvalues and eigenvectors of L \n",
    "vals, vecs = np.linalg.eig(L)\n",
    "\n",
    "# sort the eigenvalues and eigenvectors from small to large\n",
    "vals = vals[np.argsort(vals)]\n",
    "vecs = vecs[:,np.argsort(vals)]\n",
    "\n",
    "\n",
    "# perform Kmeans with k=2, using the first 2 eigenvectors\n",
    "kmeans = KMeans(n_clusters=2,random_state=6).fit(vecs[:,0:2].real)\n",
    "label = kmeans.labels_\n",
    "\n",
    "# remove NaN data\n",
    "true_label = data[2][-np.isnan(data[2])]\n",
    "label = np.delete(label,[55, 110])\n",
    "\n",
    "false_classification_rate =  1 - sum(label == true_label)/len(true_label)\n",
    "print (\"The  false classification rate is:\", false_classification_rate)"
   ]
  },
  {
   "cell_type": "code",
   "execution_count": 2,
   "metadata": {},
   "outputs": [
    {
     "data": {
      "image/png": "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\n",
      "text/plain": [
       "<Figure size 432x288 with 1 Axes>"
      ]
     },
     "metadata": {
      "needs_background": "light"
     },
     "output_type": "display_data"
    },
    {
     "data": {
      "application/vnd.plotly.v1+json": {
       "config": {
        "plotlyServerURL": "https://plot.ly"
       },
       "data": [
        {
         "hoverlabel": {
          "namelength": 0
         },
         "hovertemplate": "prediction=1<br>PC1=%{x}<br>PC2=%{y}<br>Country=%{text}",
         "legendgroup": "prediction=1",
         "marker": {
          "color": "#636efa",
          "symbol": "circle"
         },
         "mode": "markers+text",
         "name": "prediction=1",
         "showlegend": true,
         "text": [
          "Germany",
          "Holland",
          "England",
          "Denmark",
          "Norway",
          "Ireland"
         ],
         "textposition": "top center",
         "type": "scatter",
         "x": [
          -20.50326296400505,
          -64.6246119349153,
          -99.46008035457022,
          -34.74637888548634,
          -10.664415080937658,
          -40.690804259980716
         ],
         "xaxis": "x",
         "y": [
          -10.45128937947411,
          -5.156200079083802,
          -3.9979888761311515,
          16.75586317458462,
          37.66525252300727,
          55.849689573264214
         ],
         "yaxis": "y"
        },
        {
         "hoverlabel": {
          "namelength": 0
         },
         "hovertemplate": "prediction=0<br>PC1=%{x}<br>PC2=%{y}<br>Country=%{text}",
         "legendgroup": "prediction=0",
         "marker": {
          "color": "#EF553B",
          "symbol": "circle"
         },
         "mode": "markers+text",
         "name": "prediction=0",
         "showlegend": true,
         "text": [
          "Italy",
          "Portugal",
          "Austria"
         ],
         "textposition": "top center",
         "type": "scatter",
         "x": [
          82.04597382266982,
          96.64496922670811,
          43.56127803120098
         ],
         "xaxis": "x",
         "y": [
          7.69305905200026,
          14.420198351139817,
          51.76204731902083
         ],
         "yaxis": "y"
        },
        {
         "hoverlabel": {
          "namelength": 0
         },
         "hovertemplate": "prediction=2<br>PC1=%{x}<br>PC2=%{y}<br>Country=%{text}",
         "legendgroup": "prediction=2",
         "marker": {
          "color": "#00cc96",
          "symbol": "circle"
         },
         "mode": "markers+text",
         "name": "prediction=2",
         "showlegend": true,
         "text": [
          "France",
          "Belgium",
          "Luxembourg",
          "Switzerland"
         ],
         "textposition": "top center",
         "type": "scatter",
         "x": [
          27.321471399496698,
          7.342633828058648,
          6.76560844275242,
          7.007618729008576
         ],
         "xaxis": "x",
         "y": [
          -41.01180200439942,
          -10.889949734119707,
          -88.66530765508323,
          -23.973572264725618
         ],
         "yaxis": "y"
        }
       ],
       "layout": {
        "height": 600,
        "legend": {
         "tracegroupgap": 0
        },
        "margin": {
         "t": 60
        },
        "template": {
         "data": {
          "bar": [
           {
            "error_x": {
             "color": "#2a3f5f"
            },
            "error_y": {
             "color": "#2a3f5f"
            },
            "marker": {
             "line": {
              "color": "#E5ECF6",
              "width": 0.5
             }
            },
            "type": "bar"
           }
          ],
          "barpolar": [
           {
            "marker": {
             "line": {
              "color": "#E5ECF6",
              "width": 0.5
             }
            },
            "type": "barpolar"
           }
          ],
          "carpet": [
           {
            "aaxis": {
             "endlinecolor": "#2a3f5f",
             "gridcolor": "white",
             "linecolor": "white",
             "minorgridcolor": "white",
             "startlinecolor": "#2a3f5f"
            },
            "baxis": {
             "endlinecolor": "#2a3f5f",
             "gridcolor": "white",
             "linecolor": "white",
             "minorgridcolor": "white",
             "startlinecolor": "#2a3f5f"
            },
            "type": "carpet"
           }
          ],
          "choropleth": [
           {
            "colorbar": {
             "outlinewidth": 0,
             "ticks": ""
            },
            "type": "choropleth"
           }
          ],
          "contour": [
           {
            "colorbar": {
             "outlinewidth": 0,
             "ticks": ""
            },
            "colorscale": [
             [
              0,
              "#0d0887"
             ],
             [
              0.1111111111111111,
              "#46039f"
             ],
             [
              0.2222222222222222,
              "#7201a8"
             ],
             [
              0.3333333333333333,
              "#9c179e"
             ],
             [
              0.4444444444444444,
              "#bd3786"
             ],
             [
              0.5555555555555556,
              "#d8576b"
             ],
             [
              0.6666666666666666,
              "#ed7953"
             ],
             [
              0.7777777777777778,
              "#fb9f3a"
             ],
             [
              0.8888888888888888,
              "#fdca26"
             ],
             [
              1,
              "#f0f921"
             ]
            ],
            "type": "contour"
           }
          ],
          "contourcarpet": [
           {
            "colorbar": {
             "outlinewidth": 0,
             "ticks": ""
            },
            "type": "contourcarpet"
           }
          ],
          "heatmap": [
           {
            "colorbar": {
             "outlinewidth": 0,
             "ticks": ""
            },
            "colorscale": [
             [
              0,
              "#0d0887"
             ],
             [
              0.1111111111111111,
              "#46039f"
             ],
             [
              0.2222222222222222,
              "#7201a8"
             ],
             [
              0.3333333333333333,
              "#9c179e"
             ],
             [
              0.4444444444444444,
              "#bd3786"
             ],
             [
              0.5555555555555556,
              "#d8576b"
             ],
             [
              0.6666666666666666,
              "#ed7953"
             ],
             [
              0.7777777777777778,
              "#fb9f3a"
             ],
             [
              0.8888888888888888,
              "#fdca26"
             ],
             [
              1,
              "#f0f921"
             ]
            ],
            "type": "heatmap"
           }
          ],
          "heatmapgl": [
           {
            "colorbar": {
             "outlinewidth": 0,
             "ticks": ""
            },
            "colorscale": [
             [
              0,
              "#0d0887"
             ],
             [
              0.1111111111111111,
              "#46039f"
             ],
             [
              0.2222222222222222,
              "#7201a8"
             ],
             [
              0.3333333333333333,
              "#9c179e"
             ],
             [
              0.4444444444444444,
              "#bd3786"
             ],
             [
              0.5555555555555556,
              "#d8576b"
             ],
             [
              0.6666666666666666,
              "#ed7953"
             ],
             [
              0.7777777777777778,
              "#fb9f3a"
             ],
             [
              0.8888888888888888,
              "#fdca26"
             ],
             [
              1,
              "#f0f921"
             ]
            ],
            "type": "heatmapgl"
           }
          ],
          "histogram": [
           {
            "marker": {
             "colorbar": {
              "outlinewidth": 0,
              "ticks": ""
             }
            },
            "type": "histogram"
           }
          ],
          "histogram2d": [
           {
            "colorbar": {
             "outlinewidth": 0,
             "ticks": ""
            },
            "colorscale": [
             [
              0,
              "#0d0887"
             ],
             [
              0.1111111111111111,
              "#46039f"
             ],
             [
              0.2222222222222222,
              "#7201a8"
             ],
             [
              0.3333333333333333,
              "#9c179e"
             ],
             [
              0.4444444444444444,
              "#bd3786"
             ],
             [
              0.5555555555555556,
              "#d8576b"
             ],
             [
              0.6666666666666666,
              "#ed7953"
             ],
             [
              0.7777777777777778,
              "#fb9f3a"
             ],
             [
              0.8888888888888888,
              "#fdca26"
             ],
             [
              1,
              "#f0f921"
             ]
            ],
            "type": "histogram2d"
           }
          ],
          "histogram2dcontour": [
           {
            "colorbar": {
             "outlinewidth": 0,
             "ticks": ""
            },
            "colorscale": [
             [
              0,
              "#0d0887"
             ],
             [
              0.1111111111111111,
              "#46039f"
             ],
             [
              0.2222222222222222,
              "#7201a8"
             ],
             [
              0.3333333333333333,
              "#9c179e"
             ],
             [
              0.4444444444444444,
              "#bd3786"
             ],
             [
              0.5555555555555556,
              "#d8576b"
             ],
             [
              0.6666666666666666,
              "#ed7953"
             ],
             [
              0.7777777777777778,
              "#fb9f3a"
             ],
             [
              0.8888888888888888,
              "#fdca26"
             ],
             [
              1,
              "#f0f921"
             ]
            ],
            "type": "histogram2dcontour"
           }
          ],
          "mesh3d": [
           {
            "colorbar": {
             "outlinewidth": 0,
             "ticks": ""
            },
            "type": "mesh3d"
           }
          ],
          "parcoords": [
           {
            "line": {
             "colorbar": {
              "outlinewidth": 0,
              "ticks": ""
             }
            },
            "type": "parcoords"
           }
          ],
          "scatter": [
           {
            "marker": {
             "colorbar": {
              "outlinewidth": 0,
              "ticks": ""
             }
            },
            "type": "scatter"
           }
          ],
          "scatter3d": [
           {
            "line": {
             "colorbar": {
              "outlinewidth": 0,
              "ticks": ""
             }
            },
            "marker": {
             "colorbar": {
              "outlinewidth": 0,
              "ticks": ""
             }
            },
            "type": "scatter3d"
           }
          ],
          "scattercarpet": [
           {
            "marker": {
             "colorbar": {
              "outlinewidth": 0,
              "ticks": ""
             }
            },
            "type": "scattercarpet"
           }
          ],
          "scattergeo": [
           {
            "marker": {
             "colorbar": {
              "outlinewidth": 0,
              "ticks": ""
             }
            },
            "type": "scattergeo"
           }
          ],
          "scattergl": [
           {
            "marker": {
             "colorbar": {
              "outlinewidth": 0,
              "ticks": ""
             }
            },
            "type": "scattergl"
           }
          ],
          "scattermapbox": [
           {
            "marker": {
             "colorbar": {
              "outlinewidth": 0,
              "ticks": ""
             }
            },
            "type": "scattermapbox"
           }
          ],
          "scatterpolar": [
           {
            "marker": {
             "colorbar": {
              "outlinewidth": 0,
              "ticks": ""
             }
            },
            "type": "scatterpolar"
           }
          ],
          "scatterpolargl": [
           {
            "marker": {
             "colorbar": {
              "outlinewidth": 0,
              "ticks": ""
             }
            },
            "type": "scatterpolargl"
           }
          ],
          "scatterternary": [
           {
            "marker": {
             "colorbar": {
              "outlinewidth": 0,
              "ticks": ""
             }
            },
            "type": "scatterternary"
           }
          ],
          "surface": [
           {
            "colorbar": {
             "outlinewidth": 0,
             "ticks": ""
            },
            "colorscale": [
             [
              0,
              "#0d0887"
             ],
             [
              0.1111111111111111,
              "#46039f"
             ],
             [
              0.2222222222222222,
              "#7201a8"
             ],
             [
              0.3333333333333333,
              "#9c179e"
             ],
             [
              0.4444444444444444,
              "#bd3786"
             ],
             [
              0.5555555555555556,
              "#d8576b"
             ],
             [
              0.6666666666666666,
              "#ed7953"
             ],
             [
              0.7777777777777778,
              "#fb9f3a"
             ],
             [
              0.8888888888888888,
              "#fdca26"
             ],
             [
              1,
              "#f0f921"
             ]
            ],
            "type": "surface"
           }
          ],
          "table": [
           {
            "cells": {
             "fill": {
              "color": "#EBF0F8"
             },
             "line": {
              "color": "white"
             }
            },
            "header": {
             "fill": {
              "color": "#C8D4E3"
             },
             "line": {
              "color": "white"
             }
            },
            "type": "table"
           }
          ]
         },
         "layout": {
          "annotationdefaults": {
           "arrowcolor": "#2a3f5f",
           "arrowhead": 0,
           "arrowwidth": 1
          },
          "colorscale": {
           "diverging": [
            [
             0,
             "#8e0152"
            ],
            [
             0.1,
             "#c51b7d"
            ],
            [
             0.2,
             "#de77ae"
            ],
            [
             0.3,
             "#f1b6da"
            ],
            [
             0.4,
             "#fde0ef"
            ],
            [
             0.5,
             "#f7f7f7"
            ],
            [
             0.6,
             "#e6f5d0"
            ],
            [
             0.7,
             "#b8e186"
            ],
            [
             0.8,
             "#7fbc41"
            ],
            [
             0.9,
             "#4d9221"
            ],
            [
             1,
             "#276419"
            ]
           ],
           "sequential": [
            [
             0,
             "#0d0887"
            ],
            [
             0.1111111111111111,
             "#46039f"
            ],
            [
             0.2222222222222222,
             "#7201a8"
            ],
            [
             0.3333333333333333,
             "#9c179e"
            ],
            [
             0.4444444444444444,
             "#bd3786"
            ],
            [
             0.5555555555555556,
             "#d8576b"
            ],
            [
             0.6666666666666666,
             "#ed7953"
            ],
            [
             0.7777777777777778,
             "#fb9f3a"
            ],
            [
             0.8888888888888888,
             "#fdca26"
            ],
            [
             1,
             "#f0f921"
            ]
           ],
           "sequentialminus": [
            [
             0,
             "#0d0887"
            ],
            [
             0.1111111111111111,
             "#46039f"
            ],
            [
             0.2222222222222222,
             "#7201a8"
            ],
            [
             0.3333333333333333,
             "#9c179e"
            ],
            [
             0.4444444444444444,
             "#bd3786"
            ],
            [
             0.5555555555555556,
             "#d8576b"
            ],
            [
             0.6666666666666666,
             "#ed7953"
            ],
            [
             0.7777777777777778,
             "#fb9f3a"
            ],
            [
             0.8888888888888888,
             "#fdca26"
            ],
            [
             1,
             "#f0f921"
            ]
           ]
          },
          "colorway": [
           "#636efa",
           "#EF553B",
           "#00cc96",
           "#ab63fa",
           "#FFA15A",
           "#19d3f3",
           "#FF6692",
           "#B6E880",
           "#FF97FF",
           "#FECB52"
          ],
          "font": {
           "color": "#2a3f5f"
          },
          "geo": {
           "bgcolor": "white",
           "lakecolor": "white",
           "landcolor": "#E5ECF6",
           "showlakes": true,
           "showland": true,
           "subunitcolor": "white"
          },
          "hoverlabel": {
           "align": "left"
          },
          "hovermode": "closest",
          "mapbox": {
           "style": "light"
          },
          "paper_bgcolor": "white",
          "plot_bgcolor": "#E5ECF6",
          "polar": {
           "angularaxis": {
            "gridcolor": "white",
            "linecolor": "white",
            "ticks": ""
           },
           "bgcolor": "#E5ECF6",
           "radialaxis": {
            "gridcolor": "white",
            "linecolor": "white",
            "ticks": ""
           }
          },
          "scene": {
           "xaxis": {
            "backgroundcolor": "#E5ECF6",
            "gridcolor": "white",
            "gridwidth": 2,
            "linecolor": "white",
            "showbackground": true,
            "ticks": "",
            "zerolinecolor": "white"
           },
           "yaxis": {
            "backgroundcolor": "#E5ECF6",
            "gridcolor": "white",
            "gridwidth": 2,
            "linecolor": "white",
            "showbackground": true,
            "ticks": "",
            "zerolinecolor": "white"
           },
           "zaxis": {
            "backgroundcolor": "#E5ECF6",
            "gridcolor": "white",
            "gridwidth": 2,
            "linecolor": "white",
            "showbackground": true,
            "ticks": "",
            "zerolinecolor": "white"
           }
          },
          "shapedefaults": {
           "line": {
            "color": "#2a3f5f"
           }
          },
          "ternary": {
           "aaxis": {
            "gridcolor": "white",
            "linecolor": "white",
            "ticks": ""
           },
           "baxis": {
            "gridcolor": "white",
            "linecolor": "white",
            "ticks": ""
           },
           "bgcolor": "#E5ECF6",
           "caxis": {
            "gridcolor": "white",
            "linecolor": "white",
            "ticks": ""
           }
          },
          "title": {
           "x": 0.05
          },
          "xaxis": {
           "automargin": true,
           "gridcolor": "white",
           "linecolor": "white",
           "ticks": "",
           "zerolinecolor": "white",
           "zerolinewidth": 2
          },
          "yaxis": {
           "automargin": true,
           "gridcolor": "white",
           "linecolor": "white",
           "ticks": "",
           "zerolinecolor": "white",
           "zerolinewidth": 2
          }
         }
        },
        "xaxis": {
         "anchor": "y",
         "domain": [
          0,
          0.98
         ],
         "title": {
          "text": "PC1"
         }
        },
        "yaxis": {
         "anchor": "x",
         "domain": [
          0,
          1
         ],
         "title": {
          "text": "PC2"
         }
        }
       }
      },
      "text/html": [
       "<div>\n",
       "        \n",
       "        \n",
       "            <div id=\"ef4b0da6-a186-4072-8af7-56a964381f5f\" class=\"plotly-graph-div\" style=\"height:600px; width:100%;\"></div>\n",
       "            <script type=\"text/javascript\">\n",
       "                require([\"plotly\"], function(Plotly) {\n",
       "                    window.PLOTLYENV=window.PLOTLYENV || {};\n",
       "                    \n",
       "                if (document.getElementById(\"ef4b0da6-a186-4072-8af7-56a964381f5f\")) {\n",
       "                    Plotly.newPlot(\n",
       "                        'ef4b0da6-a186-4072-8af7-56a964381f5f',\n",
       "                        [{\"hoverlabel\": {\"namelength\": 0}, \"hovertemplate\": \"prediction=1<br>PC1=%{x}<br>PC2=%{y}<br>Country=%{text}\", \"legendgroup\": \"prediction=1\", \"marker\": {\"color\": \"#636efa\", \"symbol\": \"circle\"}, \"mode\": \"markers+text\", \"name\": \"prediction=1\", \"showlegend\": true, \"text\": [\"Germany\", \"Holland\", \"England\", \"Denmark\", \"Norway\", \"Ireland\"], \"textposition\": \"top center\", \"type\": \"scatter\", \"x\": [-20.50326296400505, -64.6246119349153, -99.46008035457022, -34.74637888548634, -10.664415080937658, -40.690804259980716], \"xaxis\": \"x\", \"y\": [-10.45128937947411, -5.156200079083802, -3.9979888761311515, 16.75586317458462, 37.66525252300727, 55.849689573264214], \"yaxis\": \"y\"}, {\"hoverlabel\": {\"namelength\": 0}, \"hovertemplate\": \"prediction=0<br>PC1=%{x}<br>PC2=%{y}<br>Country=%{text}\", \"legendgroup\": \"prediction=0\", \"marker\": {\"color\": \"#EF553B\", \"symbol\": \"circle\"}, \"mode\": \"markers+text\", \"name\": \"prediction=0\", \"showlegend\": true, \"text\": [\"Italy\", \"Portugal\", \"Austria\"], \"textposition\": \"top center\", \"type\": \"scatter\", \"x\": [82.04597382266982, 96.64496922670811, 43.56127803120098], \"xaxis\": \"x\", \"y\": [7.69305905200026, 14.420198351139817, 51.76204731902083], \"yaxis\": \"y\"}, {\"hoverlabel\": {\"namelength\": 0}, \"hovertemplate\": \"prediction=2<br>PC1=%{x}<br>PC2=%{y}<br>Country=%{text}\", \"legendgroup\": \"prediction=2\", \"marker\": {\"color\": \"#00cc96\", \"symbol\": \"circle\"}, \"mode\": \"markers+text\", \"name\": \"prediction=2\", \"showlegend\": true, \"text\": [\"France\", \"Belgium\", \"Luxembourg\", \"Switzerland\"], \"textposition\": \"top center\", \"type\": \"scatter\", \"x\": [27.321471399496698, 7.342633828058648, 6.76560844275242, 7.007618729008576], \"xaxis\": \"x\", \"y\": [-41.01180200439942, -10.889949734119707, -88.66530765508323, -23.973572264725618], \"yaxis\": \"y\"}],\n",
       "                        {\"height\": 600, \"legend\": {\"tracegroupgap\": 0}, \"margin\": {\"t\": 60}, \"template\": {\"data\": {\"bar\": [{\"error_x\": {\"color\": \"#2a3f5f\"}, \"error_y\": {\"color\": \"#2a3f5f\"}, \"marker\": {\"line\": {\"color\": \"#E5ECF6\", \"width\": 0.5}}, \"type\": \"bar\"}], \"barpolar\": [{\"marker\": {\"line\": {\"color\": \"#E5ECF6\", \"width\": 0.5}}, \"type\": \"barpolar\"}], \"carpet\": [{\"aaxis\": {\"endlinecolor\": \"#2a3f5f\", \"gridcolor\": \"white\", \"linecolor\": \"white\", \"minorgridcolor\": \"white\", \"startlinecolor\": \"#2a3f5f\"}, \"baxis\": {\"endlinecolor\": \"#2a3f5f\", \"gridcolor\": \"white\", \"linecolor\": \"white\", \"minorgridcolor\": \"white\", \"startlinecolor\": \"#2a3f5f\"}, \"type\": \"carpet\"}], \"choropleth\": [{\"colorbar\": {\"outlinewidth\": 0, \"ticks\": \"\"}, \"type\": \"choropleth\"}], \"contour\": [{\"colorbar\": {\"outlinewidth\": 0, \"ticks\": \"\"}, \"colorscale\": [[0.0, \"#0d0887\"], [0.1111111111111111, \"#46039f\"], [0.2222222222222222, \"#7201a8\"], [0.3333333333333333, \"#9c179e\"], [0.4444444444444444, \"#bd3786\"], [0.5555555555555556, \"#d8576b\"], [0.6666666666666666, \"#ed7953\"], [0.7777777777777778, \"#fb9f3a\"], [0.8888888888888888, \"#fdca26\"], [1.0, \"#f0f921\"]], \"type\": \"contour\"}], \"contourcarpet\": [{\"colorbar\": {\"outlinewidth\": 0, \"ticks\": \"\"}, \"type\": \"contourcarpet\"}], \"heatmap\": [{\"colorbar\": {\"outlinewidth\": 0, \"ticks\": \"\"}, \"colorscale\": [[0.0, \"#0d0887\"], [0.1111111111111111, \"#46039f\"], [0.2222222222222222, \"#7201a8\"], [0.3333333333333333, \"#9c179e\"], [0.4444444444444444, \"#bd3786\"], [0.5555555555555556, \"#d8576b\"], [0.6666666666666666, \"#ed7953\"], [0.7777777777777778, \"#fb9f3a\"], [0.8888888888888888, \"#fdca26\"], [1.0, \"#f0f921\"]], \"type\": \"heatmap\"}], \"heatmapgl\": [{\"colorbar\": {\"outlinewidth\": 0, \"ticks\": \"\"}, \"colorscale\": [[0.0, \"#0d0887\"], [0.1111111111111111, \"#46039f\"], [0.2222222222222222, \"#7201a8\"], [0.3333333333333333, \"#9c179e\"], [0.4444444444444444, \"#bd3786\"], [0.5555555555555556, \"#d8576b\"], [0.6666666666666666, \"#ed7953\"], [0.7777777777777778, \"#fb9f3a\"], [0.8888888888888888, \"#fdca26\"], [1.0, \"#f0f921\"]], \"type\": \"heatmapgl\"}], \"histogram\": [{\"marker\": {\"colorbar\": {\"outlinewidth\": 0, \"ticks\": \"\"}}, \"type\": \"histogram\"}], \"histogram2d\": [{\"colorbar\": {\"outlinewidth\": 0, \"ticks\": \"\"}, \"colorscale\": [[0.0, \"#0d0887\"], [0.1111111111111111, \"#46039f\"], [0.2222222222222222, \"#7201a8\"], [0.3333333333333333, \"#9c179e\"], [0.4444444444444444, \"#bd3786\"], [0.5555555555555556, \"#d8576b\"], [0.6666666666666666, \"#ed7953\"], [0.7777777777777778, \"#fb9f3a\"], [0.8888888888888888, \"#fdca26\"], [1.0, \"#f0f921\"]], \"type\": \"histogram2d\"}], \"histogram2dcontour\": [{\"colorbar\": {\"outlinewidth\": 0, \"ticks\": \"\"}, \"colorscale\": [[0.0, \"#0d0887\"], [0.1111111111111111, \"#46039f\"], [0.2222222222222222, \"#7201a8\"], [0.3333333333333333, \"#9c179e\"], [0.4444444444444444, \"#bd3786\"], [0.5555555555555556, \"#d8576b\"], [0.6666666666666666, \"#ed7953\"], [0.7777777777777778, \"#fb9f3a\"], [0.8888888888888888, \"#fdca26\"], [1.0, \"#f0f921\"]], \"type\": \"histogram2dcontour\"}], \"mesh3d\": [{\"colorbar\": {\"outlinewidth\": 0, \"ticks\": \"\"}, \"type\": \"mesh3d\"}], \"parcoords\": [{\"line\": {\"colorbar\": {\"outlinewidth\": 0, \"ticks\": \"\"}}, \"type\": \"parcoords\"}], \"scatter\": [{\"marker\": {\"colorbar\": {\"outlinewidth\": 0, \"ticks\": \"\"}}, \"type\": \"scatter\"}], \"scatter3d\": [{\"line\": {\"colorbar\": {\"outlinewidth\": 0, \"ticks\": \"\"}}, \"marker\": {\"colorbar\": {\"outlinewidth\": 0, \"ticks\": \"\"}}, \"type\": \"scatter3d\"}], \"scattercarpet\": [{\"marker\": {\"colorbar\": {\"outlinewidth\": 0, \"ticks\": \"\"}}, \"type\": \"scattercarpet\"}], \"scattergeo\": [{\"marker\": {\"colorbar\": {\"outlinewidth\": 0, \"ticks\": \"\"}}, \"type\": \"scattergeo\"}], \"scattergl\": [{\"marker\": {\"colorbar\": {\"outlinewidth\": 0, \"ticks\": \"\"}}, \"type\": \"scattergl\"}], \"scattermapbox\": [{\"marker\": {\"colorbar\": {\"outlinewidth\": 0, \"ticks\": \"\"}}, \"type\": \"scattermapbox\"}], \"scatterpolar\": [{\"marker\": {\"colorbar\": {\"outlinewidth\": 0, \"ticks\": \"\"}}, \"type\": \"scatterpolar\"}], \"scatterpolargl\": [{\"marker\": {\"colorbar\": {\"outlinewidth\": 0, \"ticks\": \"\"}}, \"type\": \"scatterpolargl\"}], \"scatterternary\": [{\"marker\": {\"colorbar\": {\"outlinewidth\": 0, \"ticks\": \"\"}}, \"type\": \"scatterternary\"}], \"surface\": [{\"colorbar\": {\"outlinewidth\": 0, \"ticks\": \"\"}, \"colorscale\": [[0.0, \"#0d0887\"], [0.1111111111111111, \"#46039f\"], [0.2222222222222222, \"#7201a8\"], [0.3333333333333333, \"#9c179e\"], [0.4444444444444444, \"#bd3786\"], [0.5555555555555556, \"#d8576b\"], [0.6666666666666666, \"#ed7953\"], [0.7777777777777778, \"#fb9f3a\"], [0.8888888888888888, \"#fdca26\"], [1.0, \"#f0f921\"]], \"type\": \"surface\"}], \"table\": [{\"cells\": {\"fill\": {\"color\": \"#EBF0F8\"}, \"line\": {\"color\": \"white\"}}, \"header\": {\"fill\": {\"color\": \"#C8D4E3\"}, \"line\": {\"color\": \"white\"}}, \"type\": \"table\"}]}, \"layout\": {\"annotationdefaults\": {\"arrowcolor\": \"#2a3f5f\", \"arrowhead\": 0, \"arrowwidth\": 1}, \"colorscale\": {\"diverging\": [[0, \"#8e0152\"], [0.1, \"#c51b7d\"], [0.2, \"#de77ae\"], [0.3, \"#f1b6da\"], [0.4, \"#fde0ef\"], [0.5, \"#f7f7f7\"], [0.6, \"#e6f5d0\"], [0.7, \"#b8e186\"], [0.8, \"#7fbc41\"], [0.9, \"#4d9221\"], [1, \"#276419\"]], \"sequential\": [[0.0, \"#0d0887\"], [0.1111111111111111, \"#46039f\"], [0.2222222222222222, \"#7201a8\"], [0.3333333333333333, \"#9c179e\"], [0.4444444444444444, \"#bd3786\"], [0.5555555555555556, \"#d8576b\"], [0.6666666666666666, \"#ed7953\"], [0.7777777777777778, \"#fb9f3a\"], [0.8888888888888888, \"#fdca26\"], [1.0, \"#f0f921\"]], \"sequentialminus\": [[0.0, \"#0d0887\"], [0.1111111111111111, \"#46039f\"], [0.2222222222222222, \"#7201a8\"], [0.3333333333333333, \"#9c179e\"], [0.4444444444444444, \"#bd3786\"], [0.5555555555555556, \"#d8576b\"], [0.6666666666666666, \"#ed7953\"], [0.7777777777777778, \"#fb9f3a\"], [0.8888888888888888, \"#fdca26\"], [1.0, \"#f0f921\"]]}, \"colorway\": [\"#636efa\", \"#EF553B\", \"#00cc96\", \"#ab63fa\", \"#FFA15A\", \"#19d3f3\", \"#FF6692\", \"#B6E880\", \"#FF97FF\", \"#FECB52\"], \"font\": {\"color\": \"#2a3f5f\"}, \"geo\": {\"bgcolor\": \"white\", \"lakecolor\": \"white\", \"landcolor\": \"#E5ECF6\", \"showlakes\": true, \"showland\": true, \"subunitcolor\": \"white\"}, \"hoverlabel\": {\"align\": \"left\"}, \"hovermode\": \"closest\", \"mapbox\": {\"style\": \"light\"}, \"paper_bgcolor\": \"white\", \"plot_bgcolor\": \"#E5ECF6\", \"polar\": {\"angularaxis\": {\"gridcolor\": \"white\", \"linecolor\": \"white\", \"ticks\": \"\"}, \"bgcolor\": \"#E5ECF6\", \"radialaxis\": {\"gridcolor\": \"white\", \"linecolor\": \"white\", \"ticks\": \"\"}}, \"scene\": {\"xaxis\": {\"backgroundcolor\": \"#E5ECF6\", \"gridcolor\": \"white\", \"gridwidth\": 2, \"linecolor\": \"white\", \"showbackground\": true, \"ticks\": \"\", \"zerolinecolor\": \"white\"}, \"yaxis\": {\"backgroundcolor\": \"#E5ECF6\", \"gridcolor\": \"white\", \"gridwidth\": 2, \"linecolor\": \"white\", \"showbackground\": true, \"ticks\": \"\", \"zerolinecolor\": \"white\"}, \"zaxis\": {\"backgroundcolor\": \"#E5ECF6\", \"gridcolor\": \"white\", \"gridwidth\": 2, \"linecolor\": \"white\", \"showbackground\": true, \"ticks\": \"\", \"zerolinecolor\": \"white\"}}, \"shapedefaults\": {\"line\": {\"color\": \"#2a3f5f\"}}, \"ternary\": {\"aaxis\": {\"gridcolor\": \"white\", \"linecolor\": \"white\", \"ticks\": \"\"}, \"baxis\": {\"gridcolor\": \"white\", \"linecolor\": \"white\", \"ticks\": \"\"}, \"bgcolor\": \"#E5ECF6\", \"caxis\": {\"gridcolor\": \"white\", \"linecolor\": \"white\", \"ticks\": \"\"}}, \"title\": {\"x\": 0.05}, \"xaxis\": {\"automargin\": true, \"gridcolor\": \"white\", \"linecolor\": \"white\", \"ticks\": \"\", \"zerolinecolor\": \"white\", \"zerolinewidth\": 2}, \"yaxis\": {\"automargin\": true, \"gridcolor\": \"white\", \"linecolor\": \"white\", \"ticks\": \"\", \"zerolinecolor\": \"white\", \"zerolinewidth\": 2}}}, \"xaxis\": {\"anchor\": \"y\", \"domain\": [0.0, 0.98], \"title\": {\"text\": \"PC1\"}}, \"yaxis\": {\"anchor\": \"x\", \"domain\": [0.0, 1.0], \"title\": {\"text\": \"PC2\"}}},\n",
       "                        {\"responsive\": true}\n",
       "                    ).then(function(){\n",
       "                            \n",
       "var gd = document.getElementById('ef4b0da6-a186-4072-8af7-56a964381f5f');\n",
       "var x = new MutationObserver(function (mutations, observer) {{\n",
       "        var display = window.getComputedStyle(gd).display;\n",
       "        if (!display || display === 'none') {{\n",
       "            console.log([gd, 'removed!']);\n",
       "            Plotly.purge(gd);\n",
       "            observer.disconnect();\n",
       "        }}\n",
       "}});\n",
       "\n",
       "// Listen for the removal of the full notebook cells\n",
       "var notebookContainer = gd.closest('#notebook-container');\n",
       "if (notebookContainer) {{\n",
       "    x.observe(notebookContainer, {childList: true});\n",
       "}}\n",
       "\n",
       "// Listen for the clearing of the current output cell\n",
       "var outputEl = gd.closest('.output');\n",
       "if (outputEl) {{\n",
       "    x.observe(outputEl, {childList: true});\n",
       "}}\n",
       "\n",
       "                        })\n",
       "                };\n",
       "                });\n",
       "            </script>\n",
       "        </div>"
      ]
     },
     "metadata": {},
     "output_type": "display_data"
    }
   ],
   "source": [
    "import pandas as pd\n",
    "import numpy as np\n",
    "from sklearn.cluster import KMeans\n",
    "import seaborn as sns\n",
    "import matplotlib.pyplot as plt \n",
    "import plotly.express as px\n",
    "\n",
    "\n",
    "food  = pd.read_csv(\"/home/zhang/Desktop/ISYE6740/HW2/food-consumption.csv\")\n",
    "\n",
    "# drop Sweden, Finland and Spain\n",
    "remove = ['Sweden', \"Finland\", \"Spain\"]\n",
    "food = food.loc[-food[\"Country\"].isin(remove),:]\n",
    "food_list = food.columns[1::]\n",
    "\n",
    "# store all countries' name\n",
    "Country = food[\"Country\"]\n",
    "\n",
    "# minors the mean for each column.\n",
    "food = food.iloc[:,1:]- np.mean(food.iloc[:,1:], axis=0)\n",
    "\n",
    "# get the covariance matrix\n",
    "food_cov = np.cov(food,rowvar=False)\n",
    "\n",
    "# calculate the eigenvectors and eigenvalues of the covariance matrix\n",
    "vals, vecs = np.linalg.eig(food_cov)\n",
    "\n",
    "# sort them from high to low\n",
    "vals = vals[np.argsort(-vals)]\n",
    "vecs = vecs[:,np.argsort(-vals)]\n",
    "\n",
    "# get principle component 1 and 2\n",
    "PC1 = food.dot(vecs[:,0].transpose()).real\n",
    "PC2 = food.dot(vecs[:,1].transpose()).real\n",
    "\n",
    "# combine PC1 and PC1 with Country names\n",
    "PCA = pd.DataFrame(data={\"Country\":Country, \"PC1\":PC1, \"PC2\":PC2}).reset_index()\n",
    "PCA = PCA.iloc[:,1:4]\n",
    "\n",
    "# perform Kmeans on PC1 and PC2 \n",
    "K_means = KMeans(n_clusters=3).fit(PCA.iloc[:,1:3])\n",
    "PCA[\"prediction\"] = K_means.labels_.astype(object)\n",
    "\n",
    "\n",
    "n=20 # number of food\n",
    "\n",
    "PCs = vecs[:,0:2].real# obtain the first two eigenvectors (the directions)\n",
    "\n",
    "# Draw a scatter plot of two-dimensional reduced representation for each country\n",
    "p1 = sns.regplot(x='PC1', y='PC2', data=PCA, fit_reg=False)\n",
    "for line in range(0,PCA.shape[0]):\n",
    "    p1.text(PCA.PC1[line]+2, PCA.PC2[line]+2, PCA.Country[line], horizontalalignment='left', size='medium', color='black')\n",
    "    \n",
    "# add the projections of the original variables (food) on to the principal components, the red lines.\n",
    "for i in range(n):\n",
    "    plt.arrow(0, 0, PCs[i,0]*200, PCs[i,1]*200,color = 'r',alpha = 0.5)\n",
    "    p1.text(PCs[i,0]*200, PCs[i,1]*200, food_list[i], color = 'g', ha = 'center', va = 'center')\n",
    "        \n",
    "\n",
    "plt.show()\n",
    "\n",
    "\n",
    "# visulize K-means data\n",
    "p2  = px.scatter(PCA, x='PC1',y='PC2',text=\"Country\", color=\"prediction\")\n",
    "p2.update_traces(textposition='top center')\n",
    "p2.show()\n"
   ]
  },
  {
   "cell_type": "code",
   "execution_count": 301,
   "metadata": {},
   "outputs": [
    {
     "data": {
      "image/png": "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\n",
      "text/plain": [
       "<Figure size 432x288 with 1 Axes>"
      ]
     },
     "metadata": {
      "needs_background": "light"
     },
     "output_type": "display_data"
    },
    {
     "data": {
      "application/vnd.plotly.v1+json": {
       "config": {
        "plotlyServerURL": "https://plot.ly"
       },
       "data": [
        {
         "hoverlabel": {
          "namelength": 0
         },
         "hovertemplate": "prediction=1<br>PC1=%{x}<br>PC2=%{y}<br>Country=%{text}",
         "legendgroup": "prediction=1",
         "marker": {
          "color": "#636efa",
          "symbol": "circle"
         },
         "mode": "markers+text",
         "name": "prediction=1",
         "showlegend": true,
         "text": [
          "Germany",
          "France",
          "Belgium",
          "Luxembourg",
          "Switzerland"
         ],
         "textposition": "top center",
         "type": "scatter",
         "x": [
          20.503262964005057,
          -27.32147139949668,
          -7.342633828058649,
          -6.7656084427524315,
          -7.0076187290085805
         ],
         "xaxis": "x",
         "y": [
          10.45128937947418,
          41.01180200439933,
          10.88994973411972,
          88.66530765508315,
          23.97357226472559
         ],
         "yaxis": "y"
        },
        {
         "hoverlabel": {
          "namelength": 0
         },
         "hovertemplate": "prediction=3<br>PC1=%{x}<br>PC2=%{y}<br>Country=%{text}",
         "legendgroup": "prediction=3",
         "marker": {
          "color": "#EF553B",
          "symbol": "circle"
         },
         "mode": "markers+text",
         "name": "prediction=3",
         "showlegend": true,
         "text": [
          "Italy",
          "Portugal",
          "Austria"
         ],
         "textposition": "top center",
         "type": "scatter",
         "x": [
          -82.04597382266978,
          -96.64496922670813,
          -43.56127803120097
         ],
         "xaxis": "x",
         "y": [
          -7.693059052000283,
          -14.420198351139861,
          -51.762047319020844
         ],
         "yaxis": "y"
        },
        {
         "hoverlabel": {
          "namelength": 0
         },
         "hovertemplate": "prediction=0<br>PC1=%{x}<br>PC2=%{y}<br>Country=%{text}",
         "legendgroup": "prediction=0",
         "marker": {
          "color": "#00cc96",
          "symbol": "circle"
         },
         "mode": "markers+text",
         "name": "prediction=0",
         "showlegend": true,
         "text": [
          "Holland",
          "England"
         ],
         "textposition": "top center",
         "type": "scatter",
         "x": [
          64.62461193491531,
          99.46008035457015
         ],
         "xaxis": "x",
         "y": [
          5.156200079083805,
          3.9979888761311257
         ],
         "yaxis": "y"
        },
        {
         "hoverlabel": {
          "namelength": 0
         },
         "hovertemplate": "prediction=2<br>PC1=%{x}<br>PC2=%{y}<br>Country=%{text}",
         "legendgroup": "prediction=2",
         "marker": {
          "color": "#ab63fa",
          "symbol": "circle"
         },
         "mode": "markers+text",
         "name": "prediction=2",
         "showlegend": true,
         "text": [
          "Denmark",
          "Norway",
          "Ireland"
         ],
         "textposition": "top center",
         "type": "scatter",
         "x": [
          34.74637888548636,
          10.664415080937674,
          40.69080425998068
         ],
         "xaxis": "x",
         "y": [
          -16.755863174584505,
          -37.66525252300715,
          -55.84968957326424
         ],
         "yaxis": "y"
        }
       ],
       "layout": {
        "height": 600,
        "legend": {
         "tracegroupgap": 0
        },
        "margin": {
         "t": 60
        },
        "template": {
         "data": {
          "bar": [
           {
            "error_x": {
             "color": "#2a3f5f"
            },
            "error_y": {
             "color": "#2a3f5f"
            },
            "marker": {
             "line": {
              "color": "#E5ECF6",
              "width": 0.5
             }
            },
            "type": "bar"
           }
          ],
          "barpolar": [
           {
            "marker": {
             "line": {
              "color": "#E5ECF6",
              "width": 0.5
             }
            },
            "type": "barpolar"
           }
          ],
          "carpet": [
           {
            "aaxis": {
             "endlinecolor": "#2a3f5f",
             "gridcolor": "white",
             "linecolor": "white",
             "minorgridcolor": "white",
             "startlinecolor": "#2a3f5f"
            },
            "baxis": {
             "endlinecolor": "#2a3f5f",
             "gridcolor": "white",
             "linecolor": "white",
             "minorgridcolor": "white",
             "startlinecolor": "#2a3f5f"
            },
            "type": "carpet"
           }
          ],
          "choropleth": [
           {
            "colorbar": {
             "outlinewidth": 0,
             "ticks": ""
            },
            "type": "choropleth"
           }
          ],
          "contour": [
           {
            "colorbar": {
             "outlinewidth": 0,
             "ticks": ""
            },
            "colorscale": [
             [
              0,
              "#0d0887"
             ],
             [
              0.1111111111111111,
              "#46039f"
             ],
             [
              0.2222222222222222,
              "#7201a8"
             ],
             [
              0.3333333333333333,
              "#9c179e"
             ],
             [
              0.4444444444444444,
              "#bd3786"
             ],
             [
              0.5555555555555556,
              "#d8576b"
             ],
             [
              0.6666666666666666,
              "#ed7953"
             ],
             [
              0.7777777777777778,
              "#fb9f3a"
             ],
             [
              0.8888888888888888,
              "#fdca26"
             ],
             [
              1,
              "#f0f921"
             ]
            ],
            "type": "contour"
           }
          ],
          "contourcarpet": [
           {
            "colorbar": {
             "outlinewidth": 0,
             "ticks": ""
            },
            "type": "contourcarpet"
           }
          ],
          "heatmap": [
           {
            "colorbar": {
             "outlinewidth": 0,
             "ticks": ""
            },
            "colorscale": [
             [
              0,
              "#0d0887"
             ],
             [
              0.1111111111111111,
              "#46039f"
             ],
             [
              0.2222222222222222,
              "#7201a8"
             ],
             [
              0.3333333333333333,
              "#9c179e"
             ],
             [
              0.4444444444444444,
              "#bd3786"
             ],
             [
              0.5555555555555556,
              "#d8576b"
             ],
             [
              0.6666666666666666,
              "#ed7953"
             ],
             [
              0.7777777777777778,
              "#fb9f3a"
             ],
             [
              0.8888888888888888,
              "#fdca26"
             ],
             [
              1,
              "#f0f921"
             ]
            ],
            "type": "heatmap"
           }
          ],
          "heatmapgl": [
           {
            "colorbar": {
             "outlinewidth": 0,
             "ticks": ""
            },
            "colorscale": [
             [
              0,
              "#0d0887"
             ],
             [
              0.1111111111111111,
              "#46039f"
             ],
             [
              0.2222222222222222,
              "#7201a8"
             ],
             [
              0.3333333333333333,
              "#9c179e"
             ],
             [
              0.4444444444444444,
              "#bd3786"
             ],
             [
              0.5555555555555556,
              "#d8576b"
             ],
             [
              0.6666666666666666,
              "#ed7953"
             ],
             [
              0.7777777777777778,
              "#fb9f3a"
             ],
             [
              0.8888888888888888,
              "#fdca26"
             ],
             [
              1,
              "#f0f921"
             ]
            ],
            "type": "heatmapgl"
           }
          ],
          "histogram": [
           {
            "marker": {
             "colorbar": {
              "outlinewidth": 0,
              "ticks": ""
             }
            },
            "type": "histogram"
           }
          ],
          "histogram2d": [
           {
            "colorbar": {
             "outlinewidth": 0,
             "ticks": ""
            },
            "colorscale": [
             [
              0,
              "#0d0887"
             ],
             [
              0.1111111111111111,
              "#46039f"
             ],
             [
              0.2222222222222222,
              "#7201a8"
             ],
             [
              0.3333333333333333,
              "#9c179e"
             ],
             [
              0.4444444444444444,
              "#bd3786"
             ],
             [
              0.5555555555555556,
              "#d8576b"
             ],
             [
              0.6666666666666666,
              "#ed7953"
             ],
             [
              0.7777777777777778,
              "#fb9f3a"
             ],
             [
              0.8888888888888888,
              "#fdca26"
             ],
             [
              1,
              "#f0f921"
             ]
            ],
            "type": "histogram2d"
           }
          ],
          "histogram2dcontour": [
           {
            "colorbar": {
             "outlinewidth": 0,
             "ticks": ""
            },
            "colorscale": [
             [
              0,
              "#0d0887"
             ],
             [
              0.1111111111111111,
              "#46039f"
             ],
             [
              0.2222222222222222,
              "#7201a8"
             ],
             [
              0.3333333333333333,
              "#9c179e"
             ],
             [
              0.4444444444444444,
              "#bd3786"
             ],
             [
              0.5555555555555556,
              "#d8576b"
             ],
             [
              0.6666666666666666,
              "#ed7953"
             ],
             [
              0.7777777777777778,
              "#fb9f3a"
             ],
             [
              0.8888888888888888,
              "#fdca26"
             ],
             [
              1,
              "#f0f921"
             ]
            ],
            "type": "histogram2dcontour"
           }
          ],
          "mesh3d": [
           {
            "colorbar": {
             "outlinewidth": 0,
             "ticks": ""
            },
            "type": "mesh3d"
           }
          ],
          "parcoords": [
           {
            "line": {
             "colorbar": {
              "outlinewidth": 0,
              "ticks": ""
             }
            },
            "type": "parcoords"
           }
          ],
          "scatter": [
           {
            "marker": {
             "colorbar": {
              "outlinewidth": 0,
              "ticks": ""
             }
            },
            "type": "scatter"
           }
          ],
          "scatter3d": [
           {
            "line": {
             "colorbar": {
              "outlinewidth": 0,
              "ticks": ""
             }
            },
            "marker": {
             "colorbar": {
              "outlinewidth": 0,
              "ticks": ""
             }
            },
            "type": "scatter3d"
           }
          ],
          "scattercarpet": [
           {
            "marker": {
             "colorbar": {
              "outlinewidth": 0,
              "ticks": ""
             }
            },
            "type": "scattercarpet"
           }
          ],
          "scattergeo": [
           {
            "marker": {
             "colorbar": {
              "outlinewidth": 0,
              "ticks": ""
             }
            },
            "type": "scattergeo"
           }
          ],
          "scattergl": [
           {
            "marker": {
             "colorbar": {
              "outlinewidth": 0,
              "ticks": ""
             }
            },
            "type": "scattergl"
           }
          ],
          "scattermapbox": [
           {
            "marker": {
             "colorbar": {
              "outlinewidth": 0,
              "ticks": ""
             }
            },
            "type": "scattermapbox"
           }
          ],
          "scatterpolar": [
           {
            "marker": {
             "colorbar": {
              "outlinewidth": 0,
              "ticks": ""
             }
            },
            "type": "scatterpolar"
           }
          ],
          "scatterpolargl": [
           {
            "marker": {
             "colorbar": {
              "outlinewidth": 0,
              "ticks": ""
             }
            },
            "type": "scatterpolargl"
           }
          ],
          "scatterternary": [
           {
            "marker": {
             "colorbar": {
              "outlinewidth": 0,
              "ticks": ""
             }
            },
            "type": "scatterternary"
           }
          ],
          "surface": [
           {
            "colorbar": {
             "outlinewidth": 0,
             "ticks": ""
            },
            "colorscale": [
             [
              0,
              "#0d0887"
             ],
             [
              0.1111111111111111,
              "#46039f"
             ],
             [
              0.2222222222222222,
              "#7201a8"
             ],
             [
              0.3333333333333333,
              "#9c179e"
             ],
             [
              0.4444444444444444,
              "#bd3786"
             ],
             [
              0.5555555555555556,
              "#d8576b"
             ],
             [
              0.6666666666666666,
              "#ed7953"
             ],
             [
              0.7777777777777778,
              "#fb9f3a"
             ],
             [
              0.8888888888888888,
              "#fdca26"
             ],
             [
              1,
              "#f0f921"
             ]
            ],
            "type": "surface"
           }
          ],
          "table": [
           {
            "cells": {
             "fill": {
              "color": "#EBF0F8"
             },
             "line": {
              "color": "white"
             }
            },
            "header": {
             "fill": {
              "color": "#C8D4E3"
             },
             "line": {
              "color": "white"
             }
            },
            "type": "table"
           }
          ]
         },
         "layout": {
          "annotationdefaults": {
           "arrowcolor": "#2a3f5f",
           "arrowhead": 0,
           "arrowwidth": 1
          },
          "colorscale": {
           "diverging": [
            [
             0,
             "#8e0152"
            ],
            [
             0.1,
             "#c51b7d"
            ],
            [
             0.2,
             "#de77ae"
            ],
            [
             0.3,
             "#f1b6da"
            ],
            [
             0.4,
             "#fde0ef"
            ],
            [
             0.5,
             "#f7f7f7"
            ],
            [
             0.6,
             "#e6f5d0"
            ],
            [
             0.7,
             "#b8e186"
            ],
            [
             0.8,
             "#7fbc41"
            ],
            [
             0.9,
             "#4d9221"
            ],
            [
             1,
             "#276419"
            ]
           ],
           "sequential": [
            [
             0,
             "#0d0887"
            ],
            [
             0.1111111111111111,
             "#46039f"
            ],
            [
             0.2222222222222222,
             "#7201a8"
            ],
            [
             0.3333333333333333,
             "#9c179e"
            ],
            [
             0.4444444444444444,
             "#bd3786"
            ],
            [
             0.5555555555555556,
             "#d8576b"
            ],
            [
             0.6666666666666666,
             "#ed7953"
            ],
            [
             0.7777777777777778,
             "#fb9f3a"
            ],
            [
             0.8888888888888888,
             "#fdca26"
            ],
            [
             1,
             "#f0f921"
            ]
           ],
           "sequentialminus": [
            [
             0,
             "#0d0887"
            ],
            [
             0.1111111111111111,
             "#46039f"
            ],
            [
             0.2222222222222222,
             "#7201a8"
            ],
            [
             0.3333333333333333,
             "#9c179e"
            ],
            [
             0.4444444444444444,
             "#bd3786"
            ],
            [
             0.5555555555555556,
             "#d8576b"
            ],
            [
             0.6666666666666666,
             "#ed7953"
            ],
            [
             0.7777777777777778,
             "#fb9f3a"
            ],
            [
             0.8888888888888888,
             "#fdca26"
            ],
            [
             1,
             "#f0f921"
            ]
           ]
          },
          "colorway": [
           "#636efa",
           "#EF553B",
           "#00cc96",
           "#ab63fa",
           "#FFA15A",
           "#19d3f3",
           "#FF6692",
           "#B6E880",
           "#FF97FF",
           "#FECB52"
          ],
          "font": {
           "color": "#2a3f5f"
          },
          "geo": {
           "bgcolor": "white",
           "lakecolor": "white",
           "landcolor": "#E5ECF6",
           "showlakes": true,
           "showland": true,
           "subunitcolor": "white"
          },
          "hoverlabel": {
           "align": "left"
          },
          "hovermode": "closest",
          "mapbox": {
           "style": "light"
          },
          "paper_bgcolor": "white",
          "plot_bgcolor": "#E5ECF6",
          "polar": {
           "angularaxis": {
            "gridcolor": "white",
            "linecolor": "white",
            "ticks": ""
           },
           "bgcolor": "#E5ECF6",
           "radialaxis": {
            "gridcolor": "white",
            "linecolor": "white",
            "ticks": ""
           }
          },
          "scene": {
           "xaxis": {
            "backgroundcolor": "#E5ECF6",
            "gridcolor": "white",
            "gridwidth": 2,
            "linecolor": "white",
            "showbackground": true,
            "ticks": "",
            "zerolinecolor": "white"
           },
           "yaxis": {
            "backgroundcolor": "#E5ECF6",
            "gridcolor": "white",
            "gridwidth": 2,
            "linecolor": "white",
            "showbackground": true,
            "ticks": "",
            "zerolinecolor": "white"
           },
           "zaxis": {
            "backgroundcolor": "#E5ECF6",
            "gridcolor": "white",
            "gridwidth": 2,
            "linecolor": "white",
            "showbackground": true,
            "ticks": "",
            "zerolinecolor": "white"
           }
          },
          "shapedefaults": {
           "line": {
            "color": "#2a3f5f"
           }
          },
          "ternary": {
           "aaxis": {
            "gridcolor": "white",
            "linecolor": "white",
            "ticks": ""
           },
           "baxis": {
            "gridcolor": "white",
            "linecolor": "white",
            "ticks": ""
           },
           "bgcolor": "#E5ECF6",
           "caxis": {
            "gridcolor": "white",
            "linecolor": "white",
            "ticks": ""
           }
          },
          "title": {
           "x": 0.05
          },
          "xaxis": {
           "automargin": true,
           "gridcolor": "white",
           "linecolor": "white",
           "ticks": "",
           "zerolinecolor": "white",
           "zerolinewidth": 2
          },
          "yaxis": {
           "automargin": true,
           "gridcolor": "white",
           "linecolor": "white",
           "ticks": "",
           "zerolinecolor": "white",
           "zerolinewidth": 2
          }
         }
        },
        "xaxis": {
         "anchor": "y",
         "domain": [
          0,
          0.98
         ],
         "title": {
          "text": "PC1"
         }
        },
        "yaxis": {
         "anchor": "x",
         "domain": [
          0,
          1
         ],
         "title": {
          "text": "PC2"
         }
        }
       }
      },
      "text/html": [
       "<div>\n",
       "        \n",
       "        \n",
       "            <div id=\"d6bb2ef9-f8d3-40de-8433-dbf58d5b182f\" class=\"plotly-graph-div\" style=\"height:600px; width:100%;\"></div>\n",
       "            <script type=\"text/javascript\">\n",
       "                require([\"plotly\"], function(Plotly) {\n",
       "                    window.PLOTLYENV=window.PLOTLYENV || {};\n",
       "                    \n",
       "                if (document.getElementById(\"d6bb2ef9-f8d3-40de-8433-dbf58d5b182f\")) {\n",
       "                    Plotly.newPlot(\n",
       "                        'd6bb2ef9-f8d3-40de-8433-dbf58d5b182f',\n",
       "                        [{\"hoverlabel\": {\"namelength\": 0}, \"hovertemplate\": \"prediction=1<br>PC1=%{x}<br>PC2=%{y}<br>Country=%{text}\", \"legendgroup\": \"prediction=1\", \"marker\": {\"color\": \"#636efa\", \"symbol\": \"circle\"}, \"mode\": \"markers+text\", \"name\": \"prediction=1\", \"showlegend\": true, \"text\": [\"Germany\", \"France\", \"Belgium\", \"Luxembourg\", \"Switzerland\"], \"textposition\": \"top center\", \"type\": \"scatter\", \"x\": [20.503262964005057, -27.32147139949668, -7.342633828058649, -6.7656084427524315, -7.0076187290085805], \"xaxis\": \"x\", \"y\": [10.45128937947418, 41.01180200439933, 10.88994973411972, 88.66530765508315, 23.97357226472559], \"yaxis\": \"y\"}, {\"hoverlabel\": {\"namelength\": 0}, \"hovertemplate\": \"prediction=3<br>PC1=%{x}<br>PC2=%{y}<br>Country=%{text}\", \"legendgroup\": \"prediction=3\", \"marker\": {\"color\": \"#EF553B\", \"symbol\": \"circle\"}, \"mode\": \"markers+text\", \"name\": \"prediction=3\", \"showlegend\": true, \"text\": [\"Italy\", \"Portugal\", \"Austria\"], \"textposition\": \"top center\", \"type\": \"scatter\", \"x\": [-82.04597382266978, -96.64496922670813, -43.56127803120097], \"xaxis\": \"x\", \"y\": [-7.693059052000283, -14.420198351139861, -51.762047319020844], \"yaxis\": \"y\"}, {\"hoverlabel\": {\"namelength\": 0}, \"hovertemplate\": \"prediction=0<br>PC1=%{x}<br>PC2=%{y}<br>Country=%{text}\", \"legendgroup\": \"prediction=0\", \"marker\": {\"color\": \"#00cc96\", \"symbol\": \"circle\"}, \"mode\": \"markers+text\", \"name\": \"prediction=0\", \"showlegend\": true, \"text\": [\"Holland\", \"England\"], \"textposition\": \"top center\", \"type\": \"scatter\", \"x\": [64.62461193491531, 99.46008035457015], \"xaxis\": \"x\", \"y\": [5.156200079083805, 3.9979888761311257], \"yaxis\": \"y\"}, {\"hoverlabel\": {\"namelength\": 0}, \"hovertemplate\": \"prediction=2<br>PC1=%{x}<br>PC2=%{y}<br>Country=%{text}\", \"legendgroup\": \"prediction=2\", \"marker\": {\"color\": \"#ab63fa\", \"symbol\": \"circle\"}, \"mode\": \"markers+text\", \"name\": \"prediction=2\", \"showlegend\": true, \"text\": [\"Denmark\", \"Norway\", \"Ireland\"], \"textposition\": \"top center\", \"type\": \"scatter\", \"x\": [34.74637888548636, 10.664415080937674, 40.69080425998068], \"xaxis\": \"x\", \"y\": [-16.755863174584505, -37.66525252300715, -55.84968957326424], \"yaxis\": \"y\"}],\n",
       "                        {\"height\": 600, \"legend\": {\"tracegroupgap\": 0}, \"margin\": {\"t\": 60}, \"template\": {\"data\": {\"bar\": [{\"error_x\": {\"color\": \"#2a3f5f\"}, \"error_y\": {\"color\": \"#2a3f5f\"}, \"marker\": {\"line\": {\"color\": \"#E5ECF6\", \"width\": 0.5}}, \"type\": \"bar\"}], \"barpolar\": [{\"marker\": {\"line\": {\"color\": \"#E5ECF6\", \"width\": 0.5}}, \"type\": \"barpolar\"}], \"carpet\": [{\"aaxis\": {\"endlinecolor\": \"#2a3f5f\", \"gridcolor\": \"white\", \"linecolor\": \"white\", \"minorgridcolor\": \"white\", \"startlinecolor\": \"#2a3f5f\"}, \"baxis\": {\"endlinecolor\": \"#2a3f5f\", \"gridcolor\": \"white\", \"linecolor\": \"white\", \"minorgridcolor\": \"white\", \"startlinecolor\": \"#2a3f5f\"}, \"type\": \"carpet\"}], \"choropleth\": [{\"colorbar\": {\"outlinewidth\": 0, \"ticks\": \"\"}, \"type\": \"choropleth\"}], \"contour\": [{\"colorbar\": {\"outlinewidth\": 0, \"ticks\": \"\"}, \"colorscale\": [[0.0, \"#0d0887\"], [0.1111111111111111, \"#46039f\"], [0.2222222222222222, \"#7201a8\"], [0.3333333333333333, \"#9c179e\"], [0.4444444444444444, \"#bd3786\"], [0.5555555555555556, \"#d8576b\"], [0.6666666666666666, \"#ed7953\"], [0.7777777777777778, \"#fb9f3a\"], [0.8888888888888888, \"#fdca26\"], [1.0, \"#f0f921\"]], \"type\": \"contour\"}], \"contourcarpet\": [{\"colorbar\": {\"outlinewidth\": 0, \"ticks\": \"\"}, \"type\": \"contourcarpet\"}], \"heatmap\": [{\"colorbar\": {\"outlinewidth\": 0, \"ticks\": \"\"}, \"colorscale\": [[0.0, \"#0d0887\"], [0.1111111111111111, \"#46039f\"], [0.2222222222222222, \"#7201a8\"], [0.3333333333333333, \"#9c179e\"], [0.4444444444444444, \"#bd3786\"], [0.5555555555555556, \"#d8576b\"], [0.6666666666666666, \"#ed7953\"], [0.7777777777777778, \"#fb9f3a\"], [0.8888888888888888, \"#fdca26\"], [1.0, \"#f0f921\"]], \"type\": \"heatmap\"}], \"heatmapgl\": [{\"colorbar\": {\"outlinewidth\": 0, \"ticks\": \"\"}, \"colorscale\": [[0.0, \"#0d0887\"], [0.1111111111111111, \"#46039f\"], [0.2222222222222222, \"#7201a8\"], [0.3333333333333333, \"#9c179e\"], [0.4444444444444444, \"#bd3786\"], [0.5555555555555556, \"#d8576b\"], [0.6666666666666666, \"#ed7953\"], [0.7777777777777778, \"#fb9f3a\"], [0.8888888888888888, \"#fdca26\"], [1.0, \"#f0f921\"]], \"type\": \"heatmapgl\"}], \"histogram\": [{\"marker\": {\"colorbar\": {\"outlinewidth\": 0, \"ticks\": \"\"}}, \"type\": \"histogram\"}], \"histogram2d\": [{\"colorbar\": {\"outlinewidth\": 0, \"ticks\": \"\"}, \"colorscale\": [[0.0, \"#0d0887\"], [0.1111111111111111, \"#46039f\"], [0.2222222222222222, \"#7201a8\"], [0.3333333333333333, \"#9c179e\"], [0.4444444444444444, \"#bd3786\"], [0.5555555555555556, \"#d8576b\"], [0.6666666666666666, \"#ed7953\"], [0.7777777777777778, \"#fb9f3a\"], [0.8888888888888888, \"#fdca26\"], [1.0, \"#f0f921\"]], \"type\": \"histogram2d\"}], \"histogram2dcontour\": [{\"colorbar\": {\"outlinewidth\": 0, \"ticks\": \"\"}, \"colorscale\": [[0.0, \"#0d0887\"], [0.1111111111111111, \"#46039f\"], [0.2222222222222222, \"#7201a8\"], [0.3333333333333333, \"#9c179e\"], [0.4444444444444444, \"#bd3786\"], [0.5555555555555556, \"#d8576b\"], [0.6666666666666666, \"#ed7953\"], [0.7777777777777778, \"#fb9f3a\"], [0.8888888888888888, \"#fdca26\"], [1.0, \"#f0f921\"]], \"type\": \"histogram2dcontour\"}], \"mesh3d\": [{\"colorbar\": {\"outlinewidth\": 0, \"ticks\": \"\"}, \"type\": \"mesh3d\"}], \"parcoords\": [{\"line\": {\"colorbar\": {\"outlinewidth\": 0, \"ticks\": \"\"}}, \"type\": \"parcoords\"}], \"scatter\": [{\"marker\": {\"colorbar\": {\"outlinewidth\": 0, \"ticks\": \"\"}}, \"type\": \"scatter\"}], \"scatter3d\": [{\"line\": {\"colorbar\": {\"outlinewidth\": 0, \"ticks\": \"\"}}, \"marker\": {\"colorbar\": {\"outlinewidth\": 0, \"ticks\": \"\"}}, \"type\": \"scatter3d\"}], \"scattercarpet\": [{\"marker\": {\"colorbar\": {\"outlinewidth\": 0, \"ticks\": \"\"}}, \"type\": \"scattercarpet\"}], \"scattergeo\": [{\"marker\": {\"colorbar\": {\"outlinewidth\": 0, \"ticks\": \"\"}}, \"type\": \"scattergeo\"}], \"scattergl\": [{\"marker\": {\"colorbar\": {\"outlinewidth\": 0, \"ticks\": \"\"}}, \"type\": \"scattergl\"}], \"scattermapbox\": [{\"marker\": {\"colorbar\": {\"outlinewidth\": 0, \"ticks\": \"\"}}, \"type\": \"scattermapbox\"}], \"scatterpolar\": [{\"marker\": {\"colorbar\": {\"outlinewidth\": 0, \"ticks\": \"\"}}, \"type\": \"scatterpolar\"}], \"scatterpolargl\": [{\"marker\": {\"colorbar\": {\"outlinewidth\": 0, \"ticks\": \"\"}}, \"type\": \"scatterpolargl\"}], \"scatterternary\": [{\"marker\": {\"colorbar\": {\"outlinewidth\": 0, \"ticks\": \"\"}}, \"type\": \"scatterternary\"}], \"surface\": [{\"colorbar\": {\"outlinewidth\": 0, \"ticks\": \"\"}, \"colorscale\": [[0.0, \"#0d0887\"], [0.1111111111111111, \"#46039f\"], [0.2222222222222222, \"#7201a8\"], [0.3333333333333333, \"#9c179e\"], [0.4444444444444444, \"#bd3786\"], [0.5555555555555556, \"#d8576b\"], [0.6666666666666666, \"#ed7953\"], [0.7777777777777778, \"#fb9f3a\"], [0.8888888888888888, \"#fdca26\"], [1.0, \"#f0f921\"]], \"type\": \"surface\"}], \"table\": [{\"cells\": {\"fill\": {\"color\": \"#EBF0F8\"}, \"line\": {\"color\": \"white\"}}, \"header\": {\"fill\": {\"color\": \"#C8D4E3\"}, \"line\": {\"color\": \"white\"}}, \"type\": \"table\"}]}, \"layout\": {\"annotationdefaults\": {\"arrowcolor\": \"#2a3f5f\", \"arrowhead\": 0, \"arrowwidth\": 1}, \"colorscale\": {\"diverging\": [[0, \"#8e0152\"], [0.1, \"#c51b7d\"], [0.2, \"#de77ae\"], [0.3, \"#f1b6da\"], [0.4, \"#fde0ef\"], [0.5, \"#f7f7f7\"], [0.6, \"#e6f5d0\"], [0.7, \"#b8e186\"], [0.8, \"#7fbc41\"], [0.9, \"#4d9221\"], [1, \"#276419\"]], \"sequential\": [[0.0, \"#0d0887\"], [0.1111111111111111, \"#46039f\"], [0.2222222222222222, \"#7201a8\"], [0.3333333333333333, \"#9c179e\"], [0.4444444444444444, \"#bd3786\"], [0.5555555555555556, \"#d8576b\"], [0.6666666666666666, \"#ed7953\"], [0.7777777777777778, \"#fb9f3a\"], [0.8888888888888888, \"#fdca26\"], [1.0, \"#f0f921\"]], \"sequentialminus\": [[0.0, \"#0d0887\"], [0.1111111111111111, \"#46039f\"], [0.2222222222222222, \"#7201a8\"], [0.3333333333333333, \"#9c179e\"], [0.4444444444444444, \"#bd3786\"], [0.5555555555555556, \"#d8576b\"], [0.6666666666666666, \"#ed7953\"], [0.7777777777777778, \"#fb9f3a\"], [0.8888888888888888, \"#fdca26\"], [1.0, \"#f0f921\"]]}, \"colorway\": [\"#636efa\", \"#EF553B\", \"#00cc96\", \"#ab63fa\", \"#FFA15A\", \"#19d3f3\", \"#FF6692\", \"#B6E880\", \"#FF97FF\", \"#FECB52\"], \"font\": {\"color\": \"#2a3f5f\"}, \"geo\": {\"bgcolor\": \"white\", \"lakecolor\": \"white\", \"landcolor\": \"#E5ECF6\", \"showlakes\": true, \"showland\": true, \"subunitcolor\": \"white\"}, \"hoverlabel\": {\"align\": \"left\"}, \"hovermode\": \"closest\", \"mapbox\": {\"style\": \"light\"}, \"paper_bgcolor\": \"white\", \"plot_bgcolor\": \"#E5ECF6\", \"polar\": {\"angularaxis\": {\"gridcolor\": \"white\", \"linecolor\": \"white\", \"ticks\": \"\"}, \"bgcolor\": \"#E5ECF6\", \"radialaxis\": {\"gridcolor\": \"white\", \"linecolor\": \"white\", \"ticks\": \"\"}}, \"scene\": {\"xaxis\": {\"backgroundcolor\": \"#E5ECF6\", \"gridcolor\": \"white\", \"gridwidth\": 2, \"linecolor\": \"white\", \"showbackground\": true, \"ticks\": \"\", \"zerolinecolor\": \"white\"}, \"yaxis\": {\"backgroundcolor\": \"#E5ECF6\", \"gridcolor\": \"white\", \"gridwidth\": 2, \"linecolor\": \"white\", \"showbackground\": true, \"ticks\": \"\", \"zerolinecolor\": \"white\"}, \"zaxis\": {\"backgroundcolor\": \"#E5ECF6\", \"gridcolor\": \"white\", \"gridwidth\": 2, \"linecolor\": \"white\", \"showbackground\": true, \"ticks\": \"\", \"zerolinecolor\": \"white\"}}, \"shapedefaults\": {\"line\": {\"color\": \"#2a3f5f\"}}, \"ternary\": {\"aaxis\": {\"gridcolor\": \"white\", \"linecolor\": \"white\", \"ticks\": \"\"}, \"baxis\": {\"gridcolor\": \"white\", \"linecolor\": \"white\", \"ticks\": \"\"}, \"bgcolor\": \"#E5ECF6\", \"caxis\": {\"gridcolor\": \"white\", \"linecolor\": \"white\", \"ticks\": \"\"}}, \"title\": {\"x\": 0.05}, \"xaxis\": {\"automargin\": true, \"gridcolor\": \"white\", \"linecolor\": \"white\", \"ticks\": \"\", \"zerolinecolor\": \"white\", \"zerolinewidth\": 2}, \"yaxis\": {\"automargin\": true, \"gridcolor\": \"white\", \"linecolor\": \"white\", \"ticks\": \"\", \"zerolinecolor\": \"white\", \"zerolinewidth\": 2}}}, \"xaxis\": {\"anchor\": \"y\", \"domain\": [0.0, 0.98], \"title\": {\"text\": \"PC1\"}}, \"yaxis\": {\"anchor\": \"x\", \"domain\": [0.0, 1.0], \"title\": {\"text\": \"PC2\"}}},\n",
       "                        {\"responsive\": true}\n",
       "                    ).then(function(){\n",
       "                            \n",
       "var gd = document.getElementById('d6bb2ef9-f8d3-40de-8433-dbf58d5b182f');\n",
       "var x = new MutationObserver(function (mutations, observer) {{\n",
       "        var display = window.getComputedStyle(gd).display;\n",
       "        if (!display || display === 'none') {{\n",
       "            console.log([gd, 'removed!']);\n",
       "            Plotly.purge(gd);\n",
       "            observer.disconnect();\n",
       "        }}\n",
       "}});\n",
       "\n",
       "// Listen for the removal of the full notebook cells\n",
       "var notebookContainer = gd.closest('#notebook-container');\n",
       "if (notebookContainer) {{\n",
       "    x.observe(notebookContainer, {childList: true});\n",
       "}}\n",
       "\n",
       "// Listen for the clearing of the current output cell\n",
       "var outputEl = gd.closest('.output');\n",
       "if (outputEl) {{\n",
       "    x.observe(outputEl, {childList: true});\n",
       "}}\n",
       "\n",
       "                        })\n",
       "                };\n",
       "                });\n",
       "            </script>\n",
       "        </div>"
      ]
     },
     "metadata": {},
     "output_type": "display_data"
    }
   ],
   "source": [
    "from sklearn import  decomposition\n",
    "from sklearn.preprocessing import StandardScaler\n",
    "\n",
    "\n",
    "food  = pd.read_csv(\"/home/zhang/Desktop/ISYE6740/HW2/food-consumption.csv\")\n",
    "\n",
    "# drop Sweden, Finland and Spain\n",
    "remove = ['Sweden', \"Finland\", \"Spain\"]\n",
    "food = food.loc[-food[\"Country\"].isin(remove),:]\n",
    "food_list = food.columns[1::]\n",
    "\n",
    "# store all countries' name\n",
    "Country = food[\"Country\"]\n",
    "\n",
    "# minors the mean for each column.\n",
    "#food = food[food.columns.difference(['Country'])] - np.mean(food[food.columns.difference(['Country'])], axis=0)\n",
    "food= pd.DataFrame(StandardScaler(with_std=False).fit_transform(food.drop(axis=1,columns=\"Country\")))\n",
    "\n",
    "PCA = decomposition.PCA()\n",
    "PCA_result = PCA.fit_transform(food)\n",
    "new_data = pd.DataFrame(data={\"Country\":Country, \"PC1\":PCA_result[:,0], \"PC2\":PCA_result[:,1]}).reset_index()\n",
    "K_mean = KMeans(n_clusters=4).fit(PCA_result)\n",
    "new_data[\"prediction\"] = K_means.labels_.astype(object)\n",
    "\n",
    "\n",
    "n=20\n",
    "coeff = PCA.components_[0:2,:].transpose()\n",
    "p1 = sns.regplot(x='PC1',y='PC2', data=new_data,fit_reg=False)\n",
    "for i in range(n):\n",
    "        plt.arrow(0, 0, coeff[i,0]*200, coeff[i,1]*200,color = 'r',alpha = 0.5)\n",
    "        p1.text(coeff[i,0]*200, coeff[i,1]*200, food_list[i], color = 'g', ha = 'center', va = 'center')\n",
    "for line in range(0,new_data.shape[0]):\n",
    "    p1.text(new_data.PC1[line]+0.1, new_data.PC2[line]+0.1, new_data.Country[line], horizontalalignment='left', size='medium', color='black')\n",
    "\n",
    "plt.show()\n",
    "\n",
    "\n",
    "p2  = px.scatter(new_data, x='PC1',y='PC2',text=\"Country\", color=\"prediction\")\n",
    "p2.update_traces(textposition='top center')\n",
    "p2.show()"
   ]
  },
  {
   "cell_type": "code",
   "execution_count": 294,
   "metadata": {
    "collapsed": true
   },
   "outputs": [],
   "source": [
    "food  = pd.read_csv(\"/home/zhang/Desktop/ISYE6740/HW2/food-consumption.csv\")\n",
    "\n",
    "# drop Sweden, Finland and Spain\n",
    "remove = ['Sweden', \"Finland\", \"Spain\"]\n",
    "food = food.loc[-food[\"Country\"].isin(remove),:]\n",
    "food_list = food.columns[1::]\n",
    "\n",
    "# store all countries' name\n",
    "Country = food[\"Country\"]\n",
    "\n",
    "# minors the mean for each column.\n",
    "#food = food[food.columns.difference(['Country'])] - np.mean(food[food.columns.difference(['Country'])], axis=0)\n",
    "food= pd.DataFrame(StandardScaler(with_std=False).fit_transform(food.drop(axis=1,columns=\"Country\")))\n",
    "\n",
    "PCA = decomposition.PCA()\n",
    "PCA_result = PCA.fit_transform(food)"
   ]
  },
  {
   "cell_type": "code",
   "execution_count": 296,
   "metadata": {},
   "outputs": [
    {
     "data": {
      "text/plain": [
       "(13, 13)"
      ]
     },
     "execution_count": 296,
     "metadata": {},
     "output_type": "execute_result"
    }
   ],
   "source": [
    "PCA_result.shape"
   ]
  },
  {
   "cell_type": "code",
   "execution_count": null,
   "metadata": {
    "collapsed": true
   },
   "outputs": [],
   "source": []
  }
 ],
 "metadata": {
  "kernelspec": {
   "display_name": "Python 3",
   "language": "python",
   "name": "python3"
  },
  "language_info": {
   "codemirror_mode": {
    "name": "ipython",
    "version": 3
   },
   "file_extension": ".py",
   "mimetype": "text/x-python",
   "name": "python",
   "nbconvert_exporter": "python",
   "pygments_lexer": "ipython3",
   "version": "3.7.3"
  }
 },
 "nbformat": 4,
 "nbformat_minor": 2
}
