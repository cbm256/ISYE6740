{
 "cells": [
  {
   "cell_type": "code",
   "execution_count": 234,
   "metadata": {},
   "outputs": [],
   "source": [
    "import numpy as np\n",
    "import pandas as pd\n",
    "import scipy as sp\n",
    "from sklearn.cluster import KMeans\n",
    "import scipy.spatial.distance as dist\n",
    "import seaborn as sns\n",
    "import matplotlib.pyplot as plt \n",
    "from sklearn.neighbors import kneighbors_graph\n",
    "from scipy.spatial import distance_matrix\n",
    "from sklearn.decomposition import PCA\n",
    "from sklearn.preprocessing import StandardScaler"
   ]
  },
  {
   "cell_type": "code",
   "execution_count": 93,
   "metadata": {},
   "outputs": [],
   "source": [
    "data = np.array([[2,2],\n",
    "                [-1,1],\n",
    "                [3,1],\n",
    "                [0,-1],\n",
    "                [-2,-2]])\n",
    "\n",
    "centroids = np.array([[-3,-1],\n",
    "                     [2,1]])\n",
    "\n",
    "dist_matrix = np.zeros((5,2))"
   ]
  },
  {
   "cell_type": "code",
   "execution_count": 91,
   "metadata": {},
   "outputs": [
    {
     "name": "stdout",
     "output_type": "stream",
     "text": [
      "                0         1\n",
      "cluster                    \n",
      "0       -1.000000 -1.500000\n",
      "1        1.333333  1.333333\n",
      "[1 1 1 0 0]\n"
     ]
    }
   ],
   "source": [
    "\n",
    "def k_mean(data,centroids,dist_matrix):\n",
    "    for i in range(data.shape[0]):\n",
    "        for j in range(centroids.shape[0]):\n",
    "            distance = dist.cityblock(data[i],centroids[j])# Manhatten distance\n",
    "            dist_matrix[i,j] = distance\n",
    "    cluster = np.asarray([np.argmin(i) for i in dist_matrix])\n",
    "    new_data = pd.DataFrame(data)\n",
    "    new_data[\"cluster\"] = cluster\n",
    "    centroids = new_data.groupby(['cluster']).mean()\n",
    "    \n",
    "    return centroids,cluster\n",
    "centroids,cluster = k_mean(data,centroids,dist_matrix)\n",
    "print (centroids)\n",
    "print (cluster)\n"
   ]
  },
  {
   "cell_type": "code",
   "execution_count": 94,
   "metadata": {},
   "outputs": [
    {
     "name": "stderr",
     "output_type": "stream",
     "text": [
      "/home/zhang/anaconda3/lib/python3.7/site-packages/sklearn/cluster/k_means_.py:969: RuntimeWarning: Explicit initial center position passed: performing only one init in k-means instead of n_init=10\n",
      "  return_n_iter=True)\n"
     ]
    },
    {
     "data": {
      "text/plain": [
       "3"
      ]
     },
     "execution_count": 94,
     "metadata": {},
     "output_type": "execute_result"
    }
   ],
   "source": [
    "kmean = KMeans(n_clusters=2, init=centroids)\n",
    "kmean.fit(data)\n",
    "kmean.n_iter_"
   ]
  },
  {
   "cell_type": "code",
   "execution_count": 223,
   "metadata": {},
   "outputs": [
    {
     "data": {
      "image/png": "[encoded data removed]",
      "text/plain": [
       "<Figure size 432x288 with 1 Axes>"
      ]
     },
     "metadata": {
      "needs_background": "light"
     },
     "output_type": "display_data"
    },
    {
     "name": "stdout",
     "output_type": "stream",
     "text": [
      "[[0.         0.36787944 0.13533528 0.         0.         0.\n",
      "  0.         0.        ]\n",
      " [0.36787944 0.         0.36787944 0.         0.         0.\n",
      "  0.         0.        ]\n",
      " [0.         0.36787944 0.         0.36787944 0.         0.\n",
      "  0.         0.        ]\n",
      " [0.         0.         0.36787944 0.         0.36787944 0.\n",
      "  0.         0.        ]\n",
      " [0.         0.         0.13533528 0.36787944 0.         0.\n",
      "  0.         0.        ]\n",
      " [0.         0.         0.36787944 0.         0.         0.\n",
      "  0.36787944 0.        ]\n",
      " [0.         0.         0.         0.         0.         0.36787944\n",
      "  0.         0.36787944]\n",
      " [0.         0.         0.         0.         0.         0.13533528\n",
      "  0.36787944 0.        ]]\n",
      "[[0.36787944 0.         0.         0.         0.         0.\n",
      "  0.         0.        ]\n",
      " [0.         0.73575888 0.         0.         0.         0.\n",
      "  0.         0.        ]\n",
      " [0.         0.         1.37430889 0.         0.         0.\n",
      "  0.         0.        ]\n",
      " [0.         0.         0.         0.73575888 0.         0.\n",
      "  0.         0.        ]\n",
      " [0.         0.         0.         0.         0.36787944 0.\n",
      "  0.         0.        ]\n",
      " [0.         0.         0.         0.         0.         0.50321472\n",
      "  0.         0.        ]\n",
      " [0.         0.         0.         0.         0.         0.\n",
      "  0.73575888 0.        ]\n",
      " [0.         0.         0.         0.         0.         0.\n",
      "  0.         0.36787944]]\n",
      "[[ 0.36787944 -0.36787944 -0.13533528  0.          0.          0.\n",
      "   0.          0.        ]\n",
      " [-0.36787944  0.73575888 -0.36787944  0.          0.          0.\n",
      "   0.          0.        ]\n",
      " [ 0.         -0.36787944  1.37430889 -0.36787944  0.          0.\n",
      "   0.          0.        ]\n",
      " [ 0.          0.         -0.36787944  0.73575888 -0.36787944  0.\n",
      "   0.          0.        ]\n",
      " [ 0.          0.         -0.13533528 -0.36787944  0.36787944  0.\n",
      "   0.          0.        ]\n",
      " [ 0.          0.         -0.36787944  0.          0.          0.50321472\n",
      "  -0.36787944  0.        ]\n",
      " [ 0.          0.          0.          0.          0.         -0.36787944\n",
      "   0.73575888 -0.36787944]\n",
      " [ 0.          0.          0.          0.          0.         -0.13533528\n",
      "  -0.36787944  0.36787944]]\n",
      "[1.14238298e-16 3.86832043e-02 1.40517443e-01 5.03214724e-01\n",
      " 7.71908766e-01 9.63120881e-01 1.10363832e+00 1.66735524e+00]\n"
     ]
    },
    {
     "data": {
      "image/png": "[encoded data removed]",
      "text/plain": [
       "<Figure size 402.375x360 with 1 Axes>"
      ]
     },
     "metadata": {
      "needs_background": "light"
     },
     "output_type": "display_data"
    }
   ],
   "source": [
    "data = np.array([[-1,2],\n",
    "                [-1,1],\n",
    "                [-1,0],\n",
    "                [-1,-1],\n",
    "                [-1,-2],\n",
    "                [0,0],\n",
    "                 [1,0],\n",
    "                 [2,0]])\n",
    "\n",
    "data = pd.DataFrame(data)\n",
    "data = data.rename(columns = {0:\"x\",1:\"y\"})\n",
    "\n",
    "sns.regplot(data['x'],data['y'],fit_reg=False)    \n",
    "plt.show()\n",
    "\n",
    "A = np.exp(-kneighbors_graph(data,n_neighbors=2,mode='distance').toarray())\n",
    "A= np.where(A==1,0, A)\n",
    "print (A)\n",
    "#D = np.diag(np.array([2,2,2,2,2,2,2,2]))\n",
    "D = np.diag(A.sum(axis=0))\n",
    "print (D)\n",
    "\n",
    "L = D-A\n",
    "print (L)\n",
    "# find the eigenvalues and eigenvectors\n",
    "vals, vecs = np.linalg.eig(L)\n",
    "\n",
    "# sort\n",
    "vecs = vecs[:,np.argsort(vals)]\n",
    "vals = vals[np.argsort(vals)]\n",
    "print (vals)\n",
    "\n",
    "\n",
    "\n",
    "# use Fiedler value to find best cut to separate data\n",
    "#clusters = vecs[:,1] > 0\n",
    "\n",
    "\n",
    "from sklearn.cluster import KMeans\n",
    "\n",
    "kmeans = KMeans(n_clusters=2)\n",
    "kmeans.fit(vecs[:,0:2])\n",
    "colors = kmeans.labels_\n",
    "data['color'] = colors\n",
    "sns.lmplot(x='x',y='y',hue=\"color\", data=data,fit_reg=False)\n",
    "plt.show()"
   ]
  },
  {
   "cell_type": "code",
   "execution_count": 313,
   "metadata": {},
   "outputs": [
    {
     "name": "stdout",
     "output_type": "stream",
     "text": [
      "[ 0.57735027 -0.57735027  0.57735027]\n",
      "5.0\n"
     ]
    },
    {
     "data": {
      "text/plain": [
       "array([ 0.8660254 ,  2.59807621, -2.59807621, -0.8660254 ])"
      ]
     },
     "execution_count": 313,
     "metadata": {},
     "output_type": "execute_result"
    }
   ],
   "source": [
    "data = np.array([[4,-2,4],\n",
    "                [5,-3,5],\n",
    "                [2,0,2],\n",
    "                [3,-1,3]])\n",
    "from sklearn import datasets\n",
    "#data = datasets.load_iris()['data']\n",
    "data = data - data.mean(axis=0)\n",
    "\n",
    "cov = np.cov(data, rowvar=False)\n",
    "\n",
    "vals, vecs = np.linalg.eig(cov)\n",
    "\n",
    "# sort them from high to low\n",
    "vals = vals[np.argsort(-vals)]\n",
    "vecs = vecs[:,np.argsort(-vals)]\n",
    "\n",
    "print (vecs[:,0])\n",
    "print (vals[0])\n",
    "\n",
    "data.dot(vecs[:,0].T)\n"
   ]
  },
  {
   "cell_type": "code",
   "execution_count": 308,
   "metadata": {},
   "outputs": [
    {
     "data": {
      "text/plain": [
       "array([[ 8.66025404e-01,  3.02196169e-16,  4.04878739e-34],\n",
       "       [ 2.59807621e+00, -5.09786415e-17,  2.17649860e-32],\n",
       "       [-2.59807621e+00,  5.09786415e-17,  1.98157357e-32],\n",
       "       [-8.66025404e-01, -3.67568034e-18,  6.25262982e-33]])"
      ]
     },
     "execution_count": 308,
     "metadata": {},
     "output_type": "execute_result"
    }
   ],
   "source": [
    "data = np.array([[4,-2,4],\n",
    "                [5,-3,5],\n",
    "                [2,0,2],\n",
    "                [3,-1,3]])\n",
    "#data = datasets.load_iris()['data']\n",
    "data_standar = StandardScaler(with_std=False).fit_transform(data)\n",
    "\n",
    "pca = PCA(n_components=3).fit_transform(data_standar)\n",
    "pca\n"
   ]
  },
  {
   "cell_type": "code",
   "execution_count": 364,
   "metadata": {},
   "outputs": [
    {
     "data": {
      "image/png": "[encoded data removed]",
      "text/plain": [
       "<Figure size 432x288 with 1 Axes>"
      ]
     },
     "metadata": {
      "needs_background": "light"
     },
     "output_type": "display_data"
    },
    {
     "name": "stdout",
     "output_type": "stream",
     "text": [
      "[[-0.9477806   0.31892307]\n",
      " [-0.31892307 -0.9477806 ]]\n"
     ]
    },
    {
     "data": {
      "image/png": "[encoded data removed]",
      "text/plain": [
       "<Figure size 432x288 with 1 Axes>"
      ]
     },
     "metadata": {
      "needs_background": "light"
     },
     "output_type": "display_data"
    }
   ],
   "source": [
    "data = np.array([[4,-2],\n",
    "                [5,-3],\n",
    "                [2,0],\n",
    "                [3,-1],\n",
    "                 [1,2],\n",
    "                 [6,-4],\n",
    "                 [2,1],\n",
    "                 [5,2],[4,0],[3,-2],[2,-3],[1.5,-4]])\n",
    "\n",
    "sns.regplot(data[:,0], data[:,1], fit_reg=False)\n",
    "plt.show()\n",
    "\n",
    "data = data - data.mean(axis=0)\n",
    "\n",
    "cov = np.cov(data, rowvar=False)\n",
    "\n",
    "vals, vecs = np.linalg.eig(cov)\n",
    "\n",
    "# sort them from high to low\n",
    "vals = vals[np.argsort(-vals)]\n",
    "vecs = vecs[:,np.argsort(-vals)]\n",
    "\n",
    "print(vecs)\n",
    "\n",
    "\n",
    "sns.regplot(data[:,0], data[:,1], fit_reg=False)\n",
    "plt.arrow(0, 0,vecs[0,0]*3, vecs[0,1]*3,color = 'r',alpha = 0.5)\n",
    "plt.arrow(0, 0,vecs[1,0]*3, vecs[1,1]*3,color = 'r',alpha = 0.5)\n",
    "plt.show()"
   ]
  },
  {
   "cell_type": "code",
   "execution_count": 358,
   "metadata": {},
   "outputs": [
    {
     "ename": "TypeError",
     "evalue": "random_sample() takes at most 1 positional argument (3 given)",
     "output_type": "error",
     "traceback": [
      "\u001b[0;31m---------------------------------------------------------------------------\u001b[0m",
      "\u001b[0;31mTypeError\u001b[0m                                 Traceback (most recent call last)",
      "\u001b[0;32m<ipython-input-358-1f05d742961d>\u001b[0m in \u001b[0;36m<module>\u001b[0;34m\u001b[0m\n\u001b[1;32m      1\u001b[0m \u001b[0mx\u001b[0m \u001b[0;34m=\u001b[0m \u001b[0mnp\u001b[0m\u001b[0;34m.\u001b[0m\u001b[0mrandom\u001b[0m\u001b[0;34m.\u001b[0m\u001b[0mrandint\u001b[0m\u001b[0;34m(\u001b[0m\u001b[0;36m1\u001b[0m\u001b[0;34m,\u001b[0m\u001b[0;36m10\u001b[0m\u001b[0;34m,\u001b[0m\u001b[0;36m600\u001b[0m\u001b[0;34m)\u001b[0m\u001b[0;34m\u001b[0m\u001b[0;34m\u001b[0m\u001b[0m\n\u001b[0;32m----> 2\u001b[0;31m \u001b[0my\u001b[0m \u001b[0;34m=\u001b[0m \u001b[0mnp\u001b[0m\u001b[0;34m.\u001b[0m\u001b[0mrandom\u001b[0m\u001b[0;34m.\u001b[0m\u001b[0mrandom\u001b[0m\u001b[0;34m(\u001b[0m\u001b[0;36m7\u001b[0m\u001b[0;34m,\u001b[0m\u001b[0;36m10\u001b[0m\u001b[0;34m,\u001b[0m\u001b[0;36m600\u001b[0m\u001b[0;34m)\u001b[0m\u001b[0;34m\u001b[0m\u001b[0;34m\u001b[0m\u001b[0m\n\u001b[0m\u001b[1;32m      3\u001b[0m \u001b[0;34m\u001b[0m\u001b[0m\n\u001b[1;32m      4\u001b[0m \u001b[0;34m\u001b[0m\u001b[0m\n\u001b[1;32m      5\u001b[0m \u001b[0mdata\u001b[0m \u001b[0;34m=\u001b[0m \u001b[0mnp\u001b[0m\u001b[0;34m.\u001b[0m\u001b[0mcolumn_stack\u001b[0m\u001b[0;34m(\u001b[0m\u001b[0;34m(\u001b[0m\u001b[0mx\u001b[0m\u001b[0;34m,\u001b[0m \u001b[0my\u001b[0m\u001b[0;34m)\u001b[0m\u001b[0;34m)\u001b[0m\u001b[0;34m\u001b[0m\u001b[0;34m\u001b[0m\u001b[0m\n",
      "\u001b[0;32mmtrand.pyx\u001b[0m in \u001b[0;36mmtrand.RandomState.random_sample\u001b[0;34m()\u001b[0m\n",
      "\u001b[0;31mTypeError\u001b[0m: random_sample() takes at most 1 positional argument (3 given)"
     ]
    }
   ],
   "source": [
    "x = np.random.randint(1,10,600)\n",
    "y = np.random.random(7,10,600)\n",
    "\n",
    "\n",
    "data = np.column_stack((x, y))\n",
    "sns.regplot(data[:,0], data[:,1], fit_reg=False)\n",
    "plt.show()\n",
    "data = data - data.mean(axis=0)\n",
    "\n",
    "cov = np.cov(data, rowvar=False)\n",
    "\n",
    "vals, vecs = np.linalg.eig(cov)\n",
    "\n",
    "# sort them from high to low\n",
    "vals = vals[np.argsort(-vals)]\n",
    "vecs = vecs[:,np.argsort(-vals)]\n",
    "\n",
    "print(vecs)\n",
    "\n",
    "\n",
    "sns.regplot(data[:,0], data[:,1], fit_reg=False)\n",
    "plt.arrow(0, 0,vecs[0,0]*3, vecs[0,1]*3,color = 'r',alpha = 0.5)\n",
    "plt.arrow(0, 0,vecs[1,0]*3, vecs[1,1]*3,color = 'r',alpha = 0.5)\n",
    "plt.show()"
   ]
  },
  {
   "cell_type": "code",
   "execution_count": null,
   "metadata": {},
   "outputs": [],
   "source": []
  }
 ],
 "metadata": {
  "kernelspec": {
   "display_name": "Python 3",
   "language": "python",
   "name": "python3"
  },
  "language_info": {
   "codemirror_mode": {
    "name": "ipython",
    "version": 3
   },
   "file_extension": ".py",
   "mimetype": "text/x-python",
   "name": "python",
   "nbconvert_exporter": "python",
   "pygments_lexer": "ipython3",
   "version": "3.7.3"
  }
 },
 "nbformat": 4,
 "nbformat_minor": 2
}
